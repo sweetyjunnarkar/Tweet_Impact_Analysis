{
  "nbformat": 4,
  "nbformat_minor": 0,
  "metadata": {
    "colab": {
      "name": "Circus_Social- Sweety_Junnarkar.ipynb",
      "provenance": [],
      "mount_file_id": "1loE4NFO68NBGuHFByzJ4QSEMo4sbgoI6",
      "authorship_tag": "ABX9TyMGmSS/jhpJpCeDDZmRd7/s",
      "include_colab_link": true
    },
    "kernelspec": {
      "display_name": "Python 3",
      "name": "python3"
    },
    "language_info": {
      "name": "python"
    }
  },
  "cells": [
    {
      "cell_type": "markdown",
      "metadata": {
        "id": "view-in-github",
        "colab_type": "text"
      },
      "source": [
        "<a href=\"https://colab.research.google.com/github/sweetyjunnarkar/Tweet_Impact_Analysis/blob/main/Circus_Social_Sweety_Junnarkar.ipynb\" target=\"_parent\"><img src=\"https://colab.research.google.com/assets/colab-badge.svg\" alt=\"Open In Colab\"/></a>"
      ]
    },
    {
      "cell_type": "markdown",
      "metadata": {
        "id": "Fb7N_g8zSN9N"
      },
      "source": [
        "Jahanna Chronicle, a technology company based in Lunakick, has reached out to you with a task that involves predicting the impact of a tweet and prepare a report on your analysis. You could think about ‘impact’ as a value that could help Jahanna Chronicle decide if the tweet could go viral. \n",
        "Chronicle’s data team has worked hard and prepared a dataset for you. They compiled the data and decided to share it via HTTP. So here is the link, directly from the Chronicle’s data team! \n",
        "\n",
        "Dataset: Attached as part of email\n",
        "\n",
        "There are 15 features and 1 dependent variable (also called as the output variable; Here it is named as ‘impact’). \n",
        "\n",
        "Post Content - The text in the tweet\n",
        "\n",
        "Sentiment score - Ranges from -20 to +20 (0 - neutral)\n",
        "\n",
        "Post Length - The length of the tweet\n",
        "\n",
        "Hashtag Count - The number of hashtags used in the tweet\n",
        "\n",
        "Content URL Count - The number of URLs mentioned in the tweet\n",
        "\n",
        "Tweet Count - The total number of tweets posted by the author of the tweet\n",
        "\n",
        "Followers Count - The number of followers of the author of the post\n",
        "\n",
        "Listed Count - the number of lists the post author is a part of\n",
        "\n",
        "Media Type - The media type of the post (Text, image, video)\n",
        "\n",
        "Published Datetime - The published time of the tweet\n",
        "\n",
        "Mentions Count - The number of user mentions in the tweet\n",
        "\n",
        "Post Author Verified - 1 if author is a verified user\n",
        "\n",
        "Likes - Likes received for the tweet\n",
        "\n",
        "Shares - Retweets received for the tweet\n",
        "\n",
        "Comments - Number of comments for the tweet\n",
        "\n",
        "For some weird reason, Chronicle’s engineering team is adamant that you explore modeling using a decision tree (with some form of boosting and pruning), neural network and linear regression but give the model that fits best. \n",
        "\n",
        "To summarize here are the tasks required by Jahanna Chronicle: \n",
        "\n",
        "● Give the model and code (by uploading it to a public repo) that can best predict the impact score \n",
        "\n",
        "● Prepare a report of not more than 6 pages of your findings of data. It should include analysis like the training and testing error rates you obtained running the various learning algorithms on your problems, graphs that show performance on both training and test data as a function of training size, Why did you get the results you did? How fast were they in terms of wall clock time? How much performance was due to the problems you were given? How about the values you chose for learning rates, stopping criteria, pruning methods, and so forth (and why doesn't your analysis show results for the different values you chose?)? Which algorithm performed best? How do you define best? Be creative and think of as many questions you can, and as many answers as you can. \n",
        "\n",
        "● All the code that was used to prepare a report (also by uploading it to a public repo)\n",
        "Note from Jahanna Chronicle: The engineers at Chronicle must be able to recreate all experiments/graphs/results. (So you may want to include a readme on how to run the code)\n"
      ]
    },
    {
      "cell_type": "code",
      "metadata": {
        "id": "ZakwJKlNRwkG"
      },
      "source": [
        "import pandas as pd\n",
        "import numpy as np\n",
        "import matplotlib.pyplot as plt\n",
        "import seaborn as sns"
      ],
      "execution_count": 270,
      "outputs": []
    },
    {
      "cell_type": "code",
      "metadata": {
        "id": "9yRbbJ8_S2Cu"
      },
      "source": [
        "tweet_df = pd.read_csv('/content/drive/MyDrive/Circus Social/Twitter.csv')"
      ],
      "execution_count": 271,
      "outputs": []
    },
    {
      "cell_type": "code",
      "metadata": {
        "colab": {
          "base_uri": "https://localhost:8080/",
          "height": 458
        },
        "id": "oIcMWYeSTFzX",
        "outputId": "dd7bf440-5996-4451-adb3-44fde948863c"
      },
      "source": [
        "tweet_df.head()"
      ],
      "execution_count": 272,
      "outputs": [
        {
          "output_type": "execute_result",
          "data": {
            "text/html": [
              "<div>\n",
              "<style scoped>\n",
              "    .dataframe tbody tr th:only-of-type {\n",
              "        vertical-align: middle;\n",
              "    }\n",
              "\n",
              "    .dataframe tbody tr th {\n",
              "        vertical-align: top;\n",
              "    }\n",
              "\n",
              "    .dataframe thead th {\n",
              "        text-align: right;\n",
              "    }\n",
              "</style>\n",
              "<table border=\"1\" class=\"dataframe\">\n",
              "  <thead>\n",
              "    <tr style=\"text-align: right;\">\n",
              "      <th></th>\n",
              "      <th>Unnamed: 0</th>\n",
              "      <th>Id</th>\n",
              "      <th>Post Contet</th>\n",
              "      <th>Sentiment score</th>\n",
              "      <th>Post Length</th>\n",
              "      <th>Hashtag count</th>\n",
              "      <th>Content URL count</th>\n",
              "      <th>Tweet count</th>\n",
              "      <th>Followers count</th>\n",
              "      <th>Listed Count</th>\n",
              "      <th>Media Type</th>\n",
              "      <th>Published DateTime</th>\n",
              "      <th>Mentions Count</th>\n",
              "      <th>Post author verified</th>\n",
              "      <th>Likes</th>\n",
              "      <th>Shares</th>\n",
              "      <th>Comments</th>\n",
              "      <th>Impact</th>\n",
              "    </tr>\n",
              "  </thead>\n",
              "  <tbody>\n",
              "    <tr>\n",
              "      <th>0</th>\n",
              "      <td>41370</td>\n",
              "      <td>6d967b125fcecba6357dbc43f8f380cf2d6d7a51</td>\n",
              "      <td>Sana all na lang.</td>\n",
              "      <td>0.0</td>\n",
              "      <td>17.0</td>\n",
              "      <td>0.0</td>\n",
              "      <td>0.0</td>\n",
              "      <td>1660.0</td>\n",
              "      <td>133.0</td>\n",
              "      <td>0</td>\n",
              "      <td>TEXT</td>\n",
              "      <td>2021-01-28 12:17:24+00:00</td>\n",
              "      <td>0.0</td>\n",
              "      <td>0.0</td>\n",
              "      <td>0.0</td>\n",
              "      <td>0.0</td>\n",
              "      <td>0.0</td>\n",
              "      <td>0.0</td>\n",
              "    </tr>\n",
              "    <tr>\n",
              "      <th>1</th>\n",
              "      <td>27955</td>\n",
              "      <td>22dc5f808a8589186767412f39e5c88ae9753d04</td>\n",
              "      <td>キスマイ玉森裕太「ボス恋」台本の裏話明かす\\n\\n@TBS_asachan @bosskoi...</td>\n",
              "      <td>19.3</td>\n",
              "      <td>84.0</td>\n",
              "      <td>0.0</td>\n",
              "      <td>1.0</td>\n",
              "      <td>318924.0</td>\n",
              "      <td>1428273.0</td>\n",
              "      <td>5454</td>\n",
              "      <td>TEXT</td>\n",
              "      <td>2021-02-24 06:51:02+00:00</td>\n",
              "      <td>0.0</td>\n",
              "      <td>1.0</td>\n",
              "      <td>10.0</td>\n",
              "      <td>1.0</td>\n",
              "      <td>0.0</td>\n",
              "      <td>110.0</td>\n",
              "    </tr>\n",
              "    <tr>\n",
              "      <th>2</th>\n",
              "      <td>38151</td>\n",
              "      <td>7f224e66ad757e3066d45947881bcaab91f8e57f</td>\n",
              "      <td>SuperM’s album isn’t even out yet and there’s ...</td>\n",
              "      <td>0.0</td>\n",
              "      <td>78.0</td>\n",
              "      <td>0.0</td>\n",
              "      <td>0.0</td>\n",
              "      <td>39976.0</td>\n",
              "      <td>1560.0</td>\n",
              "      <td>0</td>\n",
              "      <td>TEXT</td>\n",
              "      <td>2020-09-15 01:16:32+00:00</td>\n",
              "      <td>0.0</td>\n",
              "      <td>0.0</td>\n",
              "      <td>0.0</td>\n",
              "      <td>0.0</td>\n",
              "      <td>0.0</td>\n",
              "      <td>0.0</td>\n",
              "    </tr>\n",
              "    <tr>\n",
              "      <th>3</th>\n",
              "      <td>13558</td>\n",
              "      <td>5acc220e7a337efafc4c847b7f74680ca2515890</td>\n",
              "      <td>மத்திய அரசின் நலத்திட்டங்களை மக்களுக்கு சென்று...</td>\n",
              "      <td>0.0</td>\n",
              "      <td>284.0</td>\n",
              "      <td>2.0</td>\n",
              "      <td>0.0</td>\n",
              "      <td>8045.0</td>\n",
              "      <td>27191.0</td>\n",
              "      <td>26</td>\n",
              "      <td>TEXT</td>\n",
              "      <td>2021-02-14 03:53:53+00:00</td>\n",
              "      <td>0.0</td>\n",
              "      <td>1.0</td>\n",
              "      <td>460.0</td>\n",
              "      <td>219.0</td>\n",
              "      <td>4.0</td>\n",
              "      <td>6830.0</td>\n",
              "    </tr>\n",
              "    <tr>\n",
              "      <th>4</th>\n",
              "      <td>17071</td>\n",
              "      <td>863abf834897a06afdc459788b34abeae6298f3a</td>\n",
              "      <td>【熊本県人吉市】球磨川氾濫後のくま川鉄道の線路被害状況 hamusoku.com/archi...</td>\n",
              "      <td>-20.0</td>\n",
              "      <td>80.0</td>\n",
              "      <td>0.0</td>\n",
              "      <td>1.0</td>\n",
              "      <td>210996.0</td>\n",
              "      <td>2385.0</td>\n",
              "      <td>0</td>\n",
              "      <td>IMAGE</td>\n",
              "      <td>2020-07-04 13:06:16+00:00</td>\n",
              "      <td>0.0</td>\n",
              "      <td>0.0</td>\n",
              "      <td>0.0</td>\n",
              "      <td>0.0</td>\n",
              "      <td>0.0</td>\n",
              "      <td>0.0</td>\n",
              "    </tr>\n",
              "  </tbody>\n",
              "</table>\n",
              "</div>"
            ],
            "text/plain": [
              "   Unnamed: 0                                        Id  ... Comments  Impact\n",
              "0       41370  6d967b125fcecba6357dbc43f8f380cf2d6d7a51  ...      0.0     0.0\n",
              "1       27955  22dc5f808a8589186767412f39e5c88ae9753d04  ...      0.0   110.0\n",
              "2       38151  7f224e66ad757e3066d45947881bcaab91f8e57f  ...      0.0     0.0\n",
              "3       13558  5acc220e7a337efafc4c847b7f74680ca2515890  ...      4.0  6830.0\n",
              "4       17071  863abf834897a06afdc459788b34abeae6298f3a  ...      0.0     0.0\n",
              "\n",
              "[5 rows x 18 columns]"
            ]
          },
          "metadata": {
            "tags": []
          },
          "execution_count": 272
        }
      ]
    },
    {
      "cell_type": "code",
      "metadata": {
        "colab": {
          "base_uri": "https://localhost:8080/"
        },
        "id": "QhF7zj3WTKNg",
        "outputId": "03531390-dd2a-4de8-cc05-d9bb46937292"
      },
      "source": [
        "tweet_df.info()"
      ],
      "execution_count": 273,
      "outputs": [
        {
          "output_type": "stream",
          "text": [
            "<class 'pandas.core.frame.DataFrame'>\n",
            "RangeIndex: 50000 entries, 0 to 49999\n",
            "Data columns (total 18 columns):\n",
            " #   Column                Non-Null Count  Dtype  \n",
            "---  ------                --------------  -----  \n",
            " 0   Unnamed: 0            50000 non-null  int64  \n",
            " 1   Id                    50000 non-null  object \n",
            " 2   Post Contet           50000 non-null  object \n",
            " 3   Sentiment score       50000 non-null  float64\n",
            " 4   Post Length           50000 non-null  float64\n",
            " 5   Hashtag count         50000 non-null  float64\n",
            " 6   Content URL count     50000 non-null  float64\n",
            " 7   Tweet count           50000 non-null  float64\n",
            " 8   Followers count       50000 non-null  float64\n",
            " 9   Listed Count          50000 non-null  int64  \n",
            " 10  Media Type            50000 non-null  object \n",
            " 11  Published DateTime    50000 non-null  object \n",
            " 12  Mentions Count        50000 non-null  float64\n",
            " 13  Post author verified  50000 non-null  float64\n",
            " 14  Likes                 50000 non-null  float64\n",
            " 15  Shares                50000 non-null  float64\n",
            " 16  Comments              50000 non-null  float64\n",
            " 17  Impact                50000 non-null  float64\n",
            "dtypes: float64(12), int64(2), object(4)\n",
            "memory usage: 6.9+ MB\n"
          ],
          "name": "stdout"
        }
      ]
    },
    {
      "cell_type": "code",
      "metadata": {
        "colab": {
          "base_uri": "https://localhost:8080/"
        },
        "id": "_-QwIShfsZM1",
        "outputId": "3759de96-40c9-47af-9b9f-6d7bbe018ea5"
      },
      "source": [
        "tweet_df.shape"
      ],
      "execution_count": 274,
      "outputs": [
        {
          "output_type": "execute_result",
          "data": {
            "text/plain": [
              "(50000, 18)"
            ]
          },
          "metadata": {
            "tags": []
          },
          "execution_count": 274
        }
      ]
    },
    {
      "cell_type": "code",
      "metadata": {
        "colab": {
          "base_uri": "https://localhost:8080/",
          "height": 643
        },
        "id": "4evV__pAl281",
        "outputId": "b7518e71-eb48-45a8-f9dd-6f4bd2ab295f"
      },
      "source": [
        "tweet_df.describe(include='all')"
      ],
      "execution_count": 275,
      "outputs": [
        {
          "output_type": "execute_result",
          "data": {
            "text/html": [
              "<div>\n",
              "<style scoped>\n",
              "    .dataframe tbody tr th:only-of-type {\n",
              "        vertical-align: middle;\n",
              "    }\n",
              "\n",
              "    .dataframe tbody tr th {\n",
              "        vertical-align: top;\n",
              "    }\n",
              "\n",
              "    .dataframe thead th {\n",
              "        text-align: right;\n",
              "    }\n",
              "</style>\n",
              "<table border=\"1\" class=\"dataframe\">\n",
              "  <thead>\n",
              "    <tr style=\"text-align: right;\">\n",
              "      <th></th>\n",
              "      <th>Unnamed: 0</th>\n",
              "      <th>Id</th>\n",
              "      <th>Post Contet</th>\n",
              "      <th>Sentiment score</th>\n",
              "      <th>Post Length</th>\n",
              "      <th>Hashtag count</th>\n",
              "      <th>Content URL count</th>\n",
              "      <th>Tweet count</th>\n",
              "      <th>Followers count</th>\n",
              "      <th>Listed Count</th>\n",
              "      <th>Media Type</th>\n",
              "      <th>Published DateTime</th>\n",
              "      <th>Mentions Count</th>\n",
              "      <th>Post author verified</th>\n",
              "      <th>Likes</th>\n",
              "      <th>Shares</th>\n",
              "      <th>Comments</th>\n",
              "      <th>Impact</th>\n",
              "    </tr>\n",
              "  </thead>\n",
              "  <tbody>\n",
              "    <tr>\n",
              "      <th>count</th>\n",
              "      <td>50000.000000</td>\n",
              "      <td>50000</td>\n",
              "      <td>50000</td>\n",
              "      <td>50000.000000</td>\n",
              "      <td>50000.000000</td>\n",
              "      <td>50000.000000</td>\n",
              "      <td>50000.000000</td>\n",
              "      <td>5.000000e+04</td>\n",
              "      <td>5.000000e+04</td>\n",
              "      <td>50000.000000</td>\n",
              "      <td>50000</td>\n",
              "      <td>50000</td>\n",
              "      <td>50000.000000</td>\n",
              "      <td>50000.000000</td>\n",
              "      <td>50000.0000</td>\n",
              "      <td>50000.000000</td>\n",
              "      <td>50000.000000</td>\n",
              "      <td>50000.000000</td>\n",
              "    </tr>\n",
              "    <tr>\n",
              "      <th>unique</th>\n",
              "      <td>NaN</td>\n",
              "      <td>47512</td>\n",
              "      <td>47429</td>\n",
              "      <td>NaN</td>\n",
              "      <td>NaN</td>\n",
              "      <td>NaN</td>\n",
              "      <td>NaN</td>\n",
              "      <td>NaN</td>\n",
              "      <td>NaN</td>\n",
              "      <td>NaN</td>\n",
              "      <td>3</td>\n",
              "      <td>47412</td>\n",
              "      <td>NaN</td>\n",
              "      <td>NaN</td>\n",
              "      <td>NaN</td>\n",
              "      <td>NaN</td>\n",
              "      <td>NaN</td>\n",
              "      <td>NaN</td>\n",
              "    </tr>\n",
              "    <tr>\n",
              "      <th>top</th>\n",
              "      <td>NaN</td>\n",
              "      <td>5e2514cfe00b65813cc6148712e5854ee8e7ff7d</td>\n",
              "      <td>／\\n#ラン活 イオンで試着しよ！\\nイオンの #かるすぽランドセル であんしんの6年間♡🎒...</td>\n",
              "      <td>NaN</td>\n",
              "      <td>NaN</td>\n",
              "      <td>NaN</td>\n",
              "      <td>NaN</td>\n",
              "      <td>NaN</td>\n",
              "      <td>NaN</td>\n",
              "      <td>NaN</td>\n",
              "      <td>TEXT</td>\n",
              "      <td>2020-04-22 23:00:48+00:00</td>\n",
              "      <td>NaN</td>\n",
              "      <td>NaN</td>\n",
              "      <td>NaN</td>\n",
              "      <td>NaN</td>\n",
              "      <td>NaN</td>\n",
              "      <td>NaN</td>\n",
              "    </tr>\n",
              "    <tr>\n",
              "      <th>freq</th>\n",
              "      <td>NaN</td>\n",
              "      <td>4</td>\n",
              "      <td>11</td>\n",
              "      <td>NaN</td>\n",
              "      <td>NaN</td>\n",
              "      <td>NaN</td>\n",
              "      <td>NaN</td>\n",
              "      <td>NaN</td>\n",
              "      <td>NaN</td>\n",
              "      <td>NaN</td>\n",
              "      <td>30176</td>\n",
              "      <td>4</td>\n",
              "      <td>NaN</td>\n",
              "      <td>NaN</td>\n",
              "      <td>NaN</td>\n",
              "      <td>NaN</td>\n",
              "      <td>NaN</td>\n",
              "      <td>NaN</td>\n",
              "    </tr>\n",
              "    <tr>\n",
              "      <th>mean</th>\n",
              "      <td>14193.578860</td>\n",
              "      <td>NaN</td>\n",
              "      <td>NaN</td>\n",
              "      <td>1.068916</td>\n",
              "      <td>154.692360</td>\n",
              "      <td>0.687520</td>\n",
              "      <td>0.480260</td>\n",
              "      <td>2.414257e+05</td>\n",
              "      <td>4.648759e+06</td>\n",
              "      <td>10069.683200</td>\n",
              "      <td>NaN</td>\n",
              "      <td>NaN</td>\n",
              "      <td>0.113720</td>\n",
              "      <td>0.626480</td>\n",
              "      <td>3020.7063</td>\n",
              "      <td>966.773260</td>\n",
              "      <td>16.407920</td>\n",
              "      <td>40038.735600</td>\n",
              "    </tr>\n",
              "    <tr>\n",
              "      <th>std</th>\n",
              "      <td>10363.500433</td>\n",
              "      <td>NaN</td>\n",
              "      <td>NaN</td>\n",
              "      <td>10.436746</td>\n",
              "      <td>79.099411</td>\n",
              "      <td>1.346979</td>\n",
              "      <td>0.526019</td>\n",
              "      <td>1.607467e+06</td>\n",
              "      <td>1.254513e+07</td>\n",
              "      <td>28384.958681</td>\n",
              "      <td>NaN</td>\n",
              "      <td>NaN</td>\n",
              "      <td>0.512984</td>\n",
              "      <td>0.483743</td>\n",
              "      <td>8261.9454</td>\n",
              "      <td>3117.212706</td>\n",
              "      <td>543.669304</td>\n",
              "      <td>103075.779094</td>\n",
              "    </tr>\n",
              "    <tr>\n",
              "      <th>min</th>\n",
              "      <td>0.000000</td>\n",
              "      <td>NaN</td>\n",
              "      <td>NaN</td>\n",
              "      <td>-20.000000</td>\n",
              "      <td>1.000000</td>\n",
              "      <td>0.000000</td>\n",
              "      <td>0.000000</td>\n",
              "      <td>0.000000e+00</td>\n",
              "      <td>0.000000e+00</td>\n",
              "      <td>0.000000</td>\n",
              "      <td>NaN</td>\n",
              "      <td>NaN</td>\n",
              "      <td>0.000000</td>\n",
              "      <td>0.000000</td>\n",
              "      <td>0.0000</td>\n",
              "      <td>0.000000</td>\n",
              "      <td>0.000000</td>\n",
              "      <td>0.000000</td>\n",
              "    </tr>\n",
              "    <tr>\n",
              "      <th>25%</th>\n",
              "      <td>6017.000000</td>\n",
              "      <td>NaN</td>\n",
              "      <td>NaN</td>\n",
              "      <td>0.000000</td>\n",
              "      <td>94.000000</td>\n",
              "      <td>0.000000</td>\n",
              "      <td>0.000000</td>\n",
              "      <td>1.123775e+04</td>\n",
              "      <td>1.053900e+04</td>\n",
              "      <td>2.000000</td>\n",
              "      <td>NaN</td>\n",
              "      <td>NaN</td>\n",
              "      <td>0.000000</td>\n",
              "      <td>0.000000</td>\n",
              "      <td>1.0000</td>\n",
              "      <td>0.000000</td>\n",
              "      <td>0.000000</td>\n",
              "      <td>10.000000</td>\n",
              "    </tr>\n",
              "    <tr>\n",
              "      <th>50%</th>\n",
              "      <td>12076.500000</td>\n",
              "      <td>NaN</td>\n",
              "      <td>NaN</td>\n",
              "      <td>0.000000</td>\n",
              "      <td>142.000000</td>\n",
              "      <td>0.000000</td>\n",
              "      <td>0.000000</td>\n",
              "      <td>5.273800e+04</td>\n",
              "      <td>3.551225e+05</td>\n",
              "      <td>555.500000</td>\n",
              "      <td>NaN</td>\n",
              "      <td>NaN</td>\n",
              "      <td>0.000000</td>\n",
              "      <td>1.000000</td>\n",
              "      <td>153.0000</td>\n",
              "      <td>42.000000</td>\n",
              "      <td>0.000000</td>\n",
              "      <td>2100.000000</td>\n",
              "    </tr>\n",
              "    <tr>\n",
              "      <th>75%</th>\n",
              "      <td>20650.250000</td>\n",
              "      <td>NaN</td>\n",
              "      <td>NaN</td>\n",
              "      <td>0.000000</td>\n",
              "      <td>215.000000</td>\n",
              "      <td>1.000000</td>\n",
              "      <td>1.000000</td>\n",
              "      <td>2.595015e+05</td>\n",
              "      <td>2.809978e+06</td>\n",
              "      <td>6171.000000</td>\n",
              "      <td>NaN</td>\n",
              "      <td>NaN</td>\n",
              "      <td>0.000000</td>\n",
              "      <td>1.000000</td>\n",
              "      <td>1909.0000</td>\n",
              "      <td>559.000000</td>\n",
              "      <td>0.000000</td>\n",
              "      <td>27500.000000</td>\n",
              "    </tr>\n",
              "    <tr>\n",
              "      <th>max</th>\n",
              "      <td>43879.000000</td>\n",
              "      <td>NaN</td>\n",
              "      <td>NaN</td>\n",
              "      <td>20.000000</td>\n",
              "      <td>373.000000</td>\n",
              "      <td>21.000000</td>\n",
              "      <td>7.000000</td>\n",
              "      <td>5.044408e+07</td>\n",
              "      <td>1.144406e+08</td>\n",
              "      <td>568139.000000</td>\n",
              "      <td>NaN</td>\n",
              "      <td>NaN</td>\n",
              "      <td>12.000000</td>\n",
              "      <td>1.000000</td>\n",
              "      <td>90919.0000</td>\n",
              "      <td>79671.000000</td>\n",
              "      <td>66939.000000</td>\n",
              "      <td>997980.000000</td>\n",
              "    </tr>\n",
              "  </tbody>\n",
              "</table>\n",
              "</div>"
            ],
            "text/plain": [
              "          Unnamed: 0  ...         Impact\n",
              "count   50000.000000  ...   50000.000000\n",
              "unique           NaN  ...            NaN\n",
              "top              NaN  ...            NaN\n",
              "freq             NaN  ...            NaN\n",
              "mean    14193.578860  ...   40038.735600\n",
              "std     10363.500433  ...  103075.779094\n",
              "min         0.000000  ...       0.000000\n",
              "25%      6017.000000  ...      10.000000\n",
              "50%     12076.500000  ...    2100.000000\n",
              "75%     20650.250000  ...   27500.000000\n",
              "max     43879.000000  ...  997980.000000\n",
              "\n",
              "[11 rows x 18 columns]"
            ]
          },
          "metadata": {
            "tags": []
          },
          "execution_count": 275
        }
      ]
    },
    {
      "cell_type": "code",
      "metadata": {
        "colab": {
          "base_uri": "https://localhost:8080/"
        },
        "id": "aZj2uOaH0wcz",
        "outputId": "c7d3997f-7485-4ee3-bf10-e6d03becdc97"
      },
      "source": [
        "tweet_df.isnull().sum()"
      ],
      "execution_count": 276,
      "outputs": [
        {
          "output_type": "execute_result",
          "data": {
            "text/plain": [
              "Unnamed: 0              0\n",
              "Id                      0\n",
              "Post Contet             0\n",
              "Sentiment score         0\n",
              "Post Length             0\n",
              "Hashtag count           0\n",
              "Content URL count       0\n",
              "Tweet count             0\n",
              "Followers count         0\n",
              "Listed Count            0\n",
              "Media Type              0\n",
              "Published DateTime      0\n",
              "Mentions Count          0\n",
              "Post author verified    0\n",
              "Likes                   0\n",
              "Shares                  0\n",
              "Comments                0\n",
              "Impact                  0\n",
              "dtype: int64"
            ]
          },
          "metadata": {
            "tags": []
          },
          "execution_count": 276
        }
      ]
    },
    {
      "cell_type": "code",
      "metadata": {
        "colab": {
          "base_uri": "https://localhost:8080/"
        },
        "id": "MI01FrSwmOTx",
        "outputId": "cd21875c-8568-418e-955c-66dd79bed50d"
      },
      "source": [
        "tweet_df['Unnamed: 0'].nunique()"
      ],
      "execution_count": 277,
      "outputs": [
        {
          "output_type": "execute_result",
          "data": {
            "text/plain": [
              "27991"
            ]
          },
          "metadata": {
            "tags": []
          },
          "execution_count": 277
        }
      ]
    },
    {
      "cell_type": "code",
      "metadata": {
        "id": "_KP8xGb7IEdD"
      },
      "source": [
        "tweet_df.drop('Unnamed: 0',axis=1,inplace=True)"
      ],
      "execution_count": 278,
      "outputs": []
    },
    {
      "cell_type": "code",
      "metadata": {
        "id": "gGWehpYpLLf0"
      },
      "source": [
        "tweet_df=tweet_df.drop_duplicates()"
      ],
      "execution_count": 279,
      "outputs": []
    },
    {
      "cell_type": "code",
      "metadata": {
        "colab": {
          "base_uri": "https://localhost:8080/",
          "height": 458
        },
        "id": "EWaJKGpzIWU9",
        "outputId": "9361ff2d-7d40-4078-8a1e-aed4ae1154f3"
      },
      "source": [
        "tweet_df.head()"
      ],
      "execution_count": 280,
      "outputs": [
        {
          "output_type": "execute_result",
          "data": {
            "text/html": [
              "<div>\n",
              "<style scoped>\n",
              "    .dataframe tbody tr th:only-of-type {\n",
              "        vertical-align: middle;\n",
              "    }\n",
              "\n",
              "    .dataframe tbody tr th {\n",
              "        vertical-align: top;\n",
              "    }\n",
              "\n",
              "    .dataframe thead th {\n",
              "        text-align: right;\n",
              "    }\n",
              "</style>\n",
              "<table border=\"1\" class=\"dataframe\">\n",
              "  <thead>\n",
              "    <tr style=\"text-align: right;\">\n",
              "      <th></th>\n",
              "      <th>Id</th>\n",
              "      <th>Post Contet</th>\n",
              "      <th>Sentiment score</th>\n",
              "      <th>Post Length</th>\n",
              "      <th>Hashtag count</th>\n",
              "      <th>Content URL count</th>\n",
              "      <th>Tweet count</th>\n",
              "      <th>Followers count</th>\n",
              "      <th>Listed Count</th>\n",
              "      <th>Media Type</th>\n",
              "      <th>Published DateTime</th>\n",
              "      <th>Mentions Count</th>\n",
              "      <th>Post author verified</th>\n",
              "      <th>Likes</th>\n",
              "      <th>Shares</th>\n",
              "      <th>Comments</th>\n",
              "      <th>Impact</th>\n",
              "    </tr>\n",
              "  </thead>\n",
              "  <tbody>\n",
              "    <tr>\n",
              "      <th>0</th>\n",
              "      <td>6d967b125fcecba6357dbc43f8f380cf2d6d7a51</td>\n",
              "      <td>Sana all na lang.</td>\n",
              "      <td>0.0</td>\n",
              "      <td>17.0</td>\n",
              "      <td>0.0</td>\n",
              "      <td>0.0</td>\n",
              "      <td>1660.0</td>\n",
              "      <td>133.0</td>\n",
              "      <td>0</td>\n",
              "      <td>TEXT</td>\n",
              "      <td>2021-01-28 12:17:24+00:00</td>\n",
              "      <td>0.0</td>\n",
              "      <td>0.0</td>\n",
              "      <td>0.0</td>\n",
              "      <td>0.0</td>\n",
              "      <td>0.0</td>\n",
              "      <td>0.0</td>\n",
              "    </tr>\n",
              "    <tr>\n",
              "      <th>1</th>\n",
              "      <td>22dc5f808a8589186767412f39e5c88ae9753d04</td>\n",
              "      <td>キスマイ玉森裕太「ボス恋」台本の裏話明かす\\n\\n@TBS_asachan @bosskoi...</td>\n",
              "      <td>19.3</td>\n",
              "      <td>84.0</td>\n",
              "      <td>0.0</td>\n",
              "      <td>1.0</td>\n",
              "      <td>318924.0</td>\n",
              "      <td>1428273.0</td>\n",
              "      <td>5454</td>\n",
              "      <td>TEXT</td>\n",
              "      <td>2021-02-24 06:51:02+00:00</td>\n",
              "      <td>0.0</td>\n",
              "      <td>1.0</td>\n",
              "      <td>10.0</td>\n",
              "      <td>1.0</td>\n",
              "      <td>0.0</td>\n",
              "      <td>110.0</td>\n",
              "    </tr>\n",
              "    <tr>\n",
              "      <th>2</th>\n",
              "      <td>7f224e66ad757e3066d45947881bcaab91f8e57f</td>\n",
              "      <td>SuperM’s album isn’t even out yet and there’s ...</td>\n",
              "      <td>0.0</td>\n",
              "      <td>78.0</td>\n",
              "      <td>0.0</td>\n",
              "      <td>0.0</td>\n",
              "      <td>39976.0</td>\n",
              "      <td>1560.0</td>\n",
              "      <td>0</td>\n",
              "      <td>TEXT</td>\n",
              "      <td>2020-09-15 01:16:32+00:00</td>\n",
              "      <td>0.0</td>\n",
              "      <td>0.0</td>\n",
              "      <td>0.0</td>\n",
              "      <td>0.0</td>\n",
              "      <td>0.0</td>\n",
              "      <td>0.0</td>\n",
              "    </tr>\n",
              "    <tr>\n",
              "      <th>3</th>\n",
              "      <td>5acc220e7a337efafc4c847b7f74680ca2515890</td>\n",
              "      <td>மத்திய அரசின் நலத்திட்டங்களை மக்களுக்கு சென்று...</td>\n",
              "      <td>0.0</td>\n",
              "      <td>284.0</td>\n",
              "      <td>2.0</td>\n",
              "      <td>0.0</td>\n",
              "      <td>8045.0</td>\n",
              "      <td>27191.0</td>\n",
              "      <td>26</td>\n",
              "      <td>TEXT</td>\n",
              "      <td>2021-02-14 03:53:53+00:00</td>\n",
              "      <td>0.0</td>\n",
              "      <td>1.0</td>\n",
              "      <td>460.0</td>\n",
              "      <td>219.0</td>\n",
              "      <td>4.0</td>\n",
              "      <td>6830.0</td>\n",
              "    </tr>\n",
              "    <tr>\n",
              "      <th>4</th>\n",
              "      <td>863abf834897a06afdc459788b34abeae6298f3a</td>\n",
              "      <td>【熊本県人吉市】球磨川氾濫後のくま川鉄道の線路被害状況 hamusoku.com/archi...</td>\n",
              "      <td>-20.0</td>\n",
              "      <td>80.0</td>\n",
              "      <td>0.0</td>\n",
              "      <td>1.0</td>\n",
              "      <td>210996.0</td>\n",
              "      <td>2385.0</td>\n",
              "      <td>0</td>\n",
              "      <td>IMAGE</td>\n",
              "      <td>2020-07-04 13:06:16+00:00</td>\n",
              "      <td>0.0</td>\n",
              "      <td>0.0</td>\n",
              "      <td>0.0</td>\n",
              "      <td>0.0</td>\n",
              "      <td>0.0</td>\n",
              "      <td>0.0</td>\n",
              "    </tr>\n",
              "  </tbody>\n",
              "</table>\n",
              "</div>"
            ],
            "text/plain": [
              "                                         Id  ...  Impact\n",
              "0  6d967b125fcecba6357dbc43f8f380cf2d6d7a51  ...     0.0\n",
              "1  22dc5f808a8589186767412f39e5c88ae9753d04  ...   110.0\n",
              "2  7f224e66ad757e3066d45947881bcaab91f8e57f  ...     0.0\n",
              "3  5acc220e7a337efafc4c847b7f74680ca2515890  ...  6830.0\n",
              "4  863abf834897a06afdc459788b34abeae6298f3a  ...     0.0\n",
              "\n",
              "[5 rows x 17 columns]"
            ]
          },
          "metadata": {
            "tags": []
          },
          "execution_count": 280
        }
      ]
    },
    {
      "cell_type": "code",
      "metadata": {
        "colab": {
          "base_uri": "https://localhost:8080/"
        },
        "id": "PzrIoy-LnR7W",
        "outputId": "2c63a2b8-848d-4a0a-e70a-44149c9b5799"
      },
      "source": [
        "tweet_df['Id'].nunique()"
      ],
      "execution_count": 281,
      "outputs": [
        {
          "output_type": "execute_result",
          "data": {
            "text/plain": [
              "47512"
            ]
          },
          "metadata": {
            "tags": []
          },
          "execution_count": 281
        }
      ]
    },
    {
      "cell_type": "code",
      "metadata": {
        "id": "JaMIPYCuLZ0j"
      },
      "source": [
        "tweet_df.drop(['Id','Post Contet'],axis=1,inplace=True)"
      ],
      "execution_count": 282,
      "outputs": []
    },
    {
      "cell_type": "code",
      "metadata": {
        "colab": {
          "base_uri": "https://localhost:8080/"
        },
        "id": "zcG8nJq3rVS2",
        "outputId": "08c71adc-96e7-432d-e3b7-86f310325814"
      },
      "source": [
        "tweet_df.columns"
      ],
      "execution_count": 283,
      "outputs": [
        {
          "output_type": "execute_result",
          "data": {
            "text/plain": [
              "Index(['Sentiment score', 'Post Length', 'Hashtag count', 'Content URL count',\n",
              "       'Tweet count', 'Followers count', 'Listed Count', 'Media Type',\n",
              "       'Published DateTime', 'Mentions Count', 'Post author verified', 'Likes',\n",
              "       'Shares', 'Comments', 'Impact'],\n",
              "      dtype='object')"
            ]
          },
          "metadata": {
            "tags": []
          },
          "execution_count": 283
        }
      ]
    },
    {
      "cell_type": "code",
      "metadata": {
        "colab": {
          "base_uri": "https://localhost:8080/",
          "height": 148
        },
        "id": "ht2u6h3UpmTO",
        "outputId": "3d93c217-d356-4a63-82bd-fd0830aae9a5"
      },
      "source": [
        "pp = sns.pairplot(data=tweet_df,\n",
        "                  y_vars=['Impact'],\n",
        "                  x_vars=numeric_cols)"
      ],
      "execution_count": 286,
      "outputs": [
        {
          "output_type": "display_data",
          "data": {
            "image/png": "[encoded data removed]",
            "text/plain": [
              "<Figure size 1980x180 with 11 Axes>"
            ]
          },
          "metadata": {
            "tags": [],
            "needs_background": "light"
          }
        }
      ]
    },
    {
      "cell_type": "code",
      "metadata": {
        "colab": {
          "base_uri": "https://localhost:8080/",
          "height": 350
        },
        "id": "axV6kzoxv6Mo",
        "outputId": "cc5ec5e5-a730-40e2-f6fd-ed1a39dcc1bf"
      },
      "source": [
        "sns.boxplot(tweet_df['Impact'])"
      ],
      "execution_count": 287,
      "outputs": [
        {
          "output_type": "stream",
          "text": [
            "/usr/local/lib/python3.7/dist-packages/seaborn/_decorators.py:43: FutureWarning: Pass the following variable as a keyword arg: x. From version 0.12, the only valid positional argument will be `data`, and passing other arguments without an explicit keyword will result in an error or misinterpretation.\n",
            "  FutureWarning\n"
          ],
          "name": "stderr"
        },
        {
          "output_type": "execute_result",
          "data": {
            "text/plain": [
              "<matplotlib.axes._subplots.AxesSubplot at 0x7f012381f050>"
            ]
          },
          "metadata": {
            "tags": []
          },
          "execution_count": 287
        },
        {
          "output_type": "display_data",
          "data": {
            "image/png": "[encoded data removed]",
            "text/plain": [
              "<Figure size 432x288 with 1 Axes>"
            ]
          },
          "metadata": {
            "tags": [],
            "needs_background": "light"
          }
        }
      ]
    },
    {
      "cell_type": "code",
      "metadata": {
        "colab": {
          "base_uri": "https://localhost:8080/",
          "height": 350
        },
        "id": "vKg0qJJJt0vn",
        "outputId": "a5e17bf3-af7b-4078-be8b-35d8f35e51d9"
      },
      "source": [
        "sns.distplot(tweet_df['Post Length'])"
      ],
      "execution_count": 288,
      "outputs": [
        {
          "output_type": "stream",
          "text": [
            "/usr/local/lib/python3.7/dist-packages/seaborn/distributions.py:2557: FutureWarning: `distplot` is a deprecated function and will be removed in a future version. Please adapt your code to use either `displot` (a figure-level function with similar flexibility) or `histplot` (an axes-level function for histograms).\n",
            "  warnings.warn(msg, FutureWarning)\n"
          ],
          "name": "stderr"
        },
        {
          "output_type": "execute_result",
          "data": {
            "text/plain": [
              "<matplotlib.axes._subplots.AxesSubplot at 0x7f0123837cd0>"
            ]
          },
          "metadata": {
            "tags": []
          },
          "execution_count": 288
        },
        {
          "output_type": "display_data",
          "data": {
            "image/png": "[encoded data removed]",
            "text/plain": [
              "<Figure size 432x288 with 1 Axes>"
            ]
          },
          "metadata": {
            "tags": [],
            "needs_background": "light"
          }
        }
      ]
    },
    {
      "cell_type": "code",
      "metadata": {
        "colab": {
          "base_uri": "https://localhost:8080/",
          "height": 350
        },
        "id": "LqNbtmh862A_",
        "outputId": "35aca9a3-dd47-4949-e01c-2fffe1a57082"
      },
      "source": [
        "sns.countplot(tweet_df['Post author verified'])"
      ],
      "execution_count": 289,
      "outputs": [
        {
          "output_type": "stream",
          "text": [
            "/usr/local/lib/python3.7/dist-packages/seaborn/_decorators.py:43: FutureWarning: Pass the following variable as a keyword arg: x. From version 0.12, the only valid positional argument will be `data`, and passing other arguments without an explicit keyword will result in an error or misinterpretation.\n",
            "  FutureWarning\n"
          ],
          "name": "stderr"
        },
        {
          "output_type": "execute_result",
          "data": {
            "text/plain": [
              "<matplotlib.axes._subplots.AxesSubplot at 0x7f01236ad4d0>"
            ]
          },
          "metadata": {
            "tags": []
          },
          "execution_count": 289
        },
        {
          "output_type": "display_data",
          "data": {
            "image/png": "[encoded data removed]",
            "text/plain": [
              "<Figure size 432x288 with 1 Axes>"
            ]
          },
          "metadata": {
            "tags": [],
            "needs_background": "light"
          }
        }
      ]
    },
    {
      "cell_type": "code",
      "metadata": {
        "colab": {
          "base_uri": "https://localhost:8080/"
        },
        "id": "I_cbBMxQroe3",
        "outputId": "dc3bb830-b5ce-4470-d054-0de3d1bcc736"
      },
      "source": [
        "tweet_df['Sentiment score'].nunique()"
      ],
      "execution_count": 290,
      "outputs": [
        {
          "output_type": "execute_result",
          "data": {
            "text/plain": [
              "2100"
            ]
          },
          "metadata": {
            "tags": []
          },
          "execution_count": 290
        }
      ]
    },
    {
      "cell_type": "code",
      "metadata": {
        "colab": {
          "base_uri": "https://localhost:8080/",
          "height": 307
        },
        "id": "fd3DHk0Xxfo9",
        "outputId": "bef110bc-fa07-416f-ea00-c6ff32ddd424"
      },
      "source": [
        "sns.scatterplot(x= tweet_df['Sentiment score'],y=tweet_df['Impact'])"
      ],
      "execution_count": 291,
      "outputs": [
        {
          "output_type": "execute_result",
          "data": {
            "text/plain": [
              "<matplotlib.axes._subplots.AxesSubplot at 0x7f0123677910>"
            ]
          },
          "metadata": {
            "tags": []
          },
          "execution_count": 291
        },
        {
          "output_type": "display_data",
          "data": {
            "image/png": "[encoded data removed]",
            "text/plain": [
              "<Figure size 432x288 with 1 Axes>"
            ]
          },
          "metadata": {
            "tags": [],
            "needs_background": "light"
          }
        }
      ]
    },
    {
      "cell_type": "code",
      "metadata": {
        "colab": {
          "base_uri": "https://localhost:8080/",
          "height": 350
        },
        "id": "bPIR5Ssf2NcC",
        "outputId": "a689ba24-f92c-4b89-c78a-a1eb7a241596"
      },
      "source": [
        "sns.distplot(tweet_df['Sentiment score'])"
      ],
      "execution_count": 292,
      "outputs": [
        {
          "output_type": "stream",
          "text": [
            "/usr/local/lib/python3.7/dist-packages/seaborn/distributions.py:2557: FutureWarning: `distplot` is a deprecated function and will be removed in a future version. Please adapt your code to use either `displot` (a figure-level function with similar flexibility) or `histplot` (an axes-level function for histograms).\n",
            "  warnings.warn(msg, FutureWarning)\n"
          ],
          "name": "stderr"
        },
        {
          "output_type": "execute_result",
          "data": {
            "text/plain": [
              "<matplotlib.axes._subplots.AxesSubplot at 0x7f01235ec110>"
            ]
          },
          "metadata": {
            "tags": []
          },
          "execution_count": 292
        },
        {
          "output_type": "display_data",
          "data": {
            "image/png": "[encoded data removed]",
            "text/plain": [
              "<Figure size 432x288 with 1 Axes>"
            ]
          },
          "metadata": {
            "tags": [],
            "needs_background": "light"
          }
        }
      ]
    },
    {
      "cell_type": "code",
      "metadata": {
        "colab": {
          "base_uri": "https://localhost:8080/",
          "height": 307
        },
        "id": "jBDttzZy3yoL",
        "outputId": "8642286c-c440-4fd4-8275-d998fb2be0d3"
      },
      "source": [
        "sns.scatterplot(x=tweet_df[tweet_df['Sentiment score']<0]['Sentiment score'],y=tweet_df[tweet_df['Sentiment score']<0]['Impact'])"
      ],
      "execution_count": 293,
      "outputs": [
        {
          "output_type": "execute_result",
          "data": {
            "text/plain": [
              "<matplotlib.axes._subplots.AxesSubplot at 0x7f0123677390>"
            ]
          },
          "metadata": {
            "tags": []
          },
          "execution_count": 293
        },
        {
          "output_type": "display_data",
          "data": {
            "image/png": "[encoded data removed]",
            "text/plain": [
              "<Figure size 432x288 with 1 Axes>"
            ]
          },
          "metadata": {
            "tags": [],
            "needs_background": "light"
          }
        }
      ]
    },
    {
      "cell_type": "code",
      "metadata": {
        "colab": {
          "base_uri": "https://localhost:8080/",
          "height": 307
        },
        "id": "gQ2VCZw-4r7l",
        "outputId": "6f73b42b-71c3-41ff-e76a-5ed631a09397"
      },
      "source": [
        "sns.scatterplot(x=tweet_df[tweet_df['Sentiment score']==0]['Sentiment score'],y=tweet_df[tweet_df['Sentiment score']==0]['Impact'])"
      ],
      "execution_count": 294,
      "outputs": [
        {
          "output_type": "execute_result",
          "data": {
            "text/plain": [
              "<matplotlib.axes._subplots.AxesSubplot at 0x7f01234d4410>"
            ]
          },
          "metadata": {
            "tags": []
          },
          "execution_count": 294
        },
        {
          "output_type": "display_data",
          "data": {
            "image/png": "[encoded data removed]",
            "text/plain": [
              "<Figure size 432x288 with 1 Axes>"
            ]
          },
          "metadata": {
            "tags": [],
            "needs_background": "light"
          }
        }
      ]
    },
    {
      "cell_type": "code",
      "metadata": {
        "colab": {
          "base_uri": "https://localhost:8080/",
          "height": 307
        },
        "id": "9l6n1z7O5R1f",
        "outputId": "3549c447-3cf3-4a3c-e992-ab9e44a3c628"
      },
      "source": [
        "sns.scatterplot(x=tweet_df[tweet_df['Sentiment score']>0]['Sentiment score'],y=tweet_df[tweet_df['Sentiment score']>0]['Impact'])"
      ],
      "execution_count": 295,
      "outputs": [
        {
          "output_type": "execute_result",
          "data": {
            "text/plain": [
              "<matplotlib.axes._subplots.AxesSubplot at 0x7f0123438490>"
            ]
          },
          "metadata": {
            "tags": []
          },
          "execution_count": 295
        },
        {
          "output_type": "display_data",
          "data": {
            "image/png": "[encoded data removed]",
            "text/plain": [
              "<Figure size 432x288 with 1 Axes>"
            ]
          },
          "metadata": {
            "tags": [],
            "needs_background": "light"
          }
        }
      ]
    },
    {
      "cell_type": "code",
      "metadata": {
        "colab": {
          "base_uri": "https://localhost:8080/",
          "height": 307
        },
        "id": "Tx7znW7DzKZY",
        "outputId": "fd4c690d-2e91-42b3-b010-198bc4197f14"
      },
      "source": [
        "sns.scatterplot(x=tweet_df['Hashtag count'],y=tweet_df['Impact'])"
      ],
      "execution_count": 297,
      "outputs": [
        {
          "output_type": "execute_result",
          "data": {
            "text/plain": [
              "<matplotlib.axes._subplots.AxesSubplot at 0x7f01233b9050>"
            ]
          },
          "metadata": {
            "tags": []
          },
          "execution_count": 297
        },
        {
          "output_type": "display_data",
          "data": {
            "image/png": "[encoded data removed]",
            "text/plain": [
              "<Figure size 432x288 with 1 Axes>"
            ]
          },
          "metadata": {
            "tags": [],
            "needs_background": "light"
          }
        }
      ]
    },
    {
      "cell_type": "code",
      "metadata": {
        "colab": {
          "base_uri": "https://localhost:8080/",
          "height": 350
        },
        "id": "3Gh18_8LzaBh",
        "outputId": "4672d2f3-8052-4580-a73c-66294584e9b5"
      },
      "source": [
        "sns.distplot(tweet_df['Hashtag count'])"
      ],
      "execution_count": 298,
      "outputs": [
        {
          "output_type": "stream",
          "text": [
            "/usr/local/lib/python3.7/dist-packages/seaborn/distributions.py:2557: FutureWarning: `distplot` is a deprecated function and will be removed in a future version. Please adapt your code to use either `displot` (a figure-level function with similar flexibility) or `histplot` (an axes-level function for histograms).\n",
            "  warnings.warn(msg, FutureWarning)\n"
          ],
          "name": "stderr"
        },
        {
          "output_type": "execute_result",
          "data": {
            "text/plain": [
              "<matplotlib.axes._subplots.AxesSubplot at 0x7f01232f5dd0>"
            ]
          },
          "metadata": {
            "tags": []
          },
          "execution_count": 298
        },
        {
          "output_type": "display_data",
          "data": {
            "image/png": "[encoded data removed]",
            "text/plain": [
              "<Figure size 432x288 with 1 Axes>"
            ]
          },
          "metadata": {
            "tags": [],
            "needs_background": "light"
          }
        }
      ]
    },
    {
      "cell_type": "code",
      "metadata": {
        "colab": {
          "base_uri": "https://localhost:8080/",
          "height": 307
        },
        "id": "_x7OH-pp0C-f",
        "outputId": "4c6d91e9-41cb-47f3-c7f5-214bed2ff5fb"
      },
      "source": [
        "sns.scatterplot(x=tweet_df['Content URL count'],y=tweet_df['Impact'])"
      ],
      "execution_count": 299,
      "outputs": [
        {
          "output_type": "execute_result",
          "data": {
            "text/plain": [
              "<matplotlib.axes._subplots.AxesSubplot at 0x7f012323c190>"
            ]
          },
          "metadata": {
            "tags": []
          },
          "execution_count": 299
        },
        {
          "output_type": "display_data",
          "data": {
            "image/png": "[encoded data removed]",
            "text/plain": [
              "<Figure size 432x288 with 1 Axes>"
            ]
          },
          "metadata": {
            "tags": [],
            "needs_background": "light"
          }
        }
      ]
    },
    {
      "cell_type": "code",
      "metadata": {
        "colab": {
          "base_uri": "https://localhost:8080/",
          "height": 361
        },
        "id": "yx2F6Oez06tu",
        "outputId": "386a012f-e49b-48d9-e0f0-aa6406f184ff"
      },
      "source": [
        "sns.scatterplot(tweet_df['Tweet count'],tweet_df['Impact'])"
      ],
      "execution_count": 301,
      "outputs": [
        {
          "output_type": "stream",
          "text": [
            "/usr/local/lib/python3.7/dist-packages/seaborn/_decorators.py:43: FutureWarning: Pass the following variables as keyword args: x, y. From version 0.12, the only valid positional argument will be `data`, and passing other arguments without an explicit keyword will result in an error or misinterpretation.\n",
            "  FutureWarning\n"
          ],
          "name": "stderr"
        },
        {
          "output_type": "execute_result",
          "data": {
            "text/plain": [
              "<matplotlib.axes._subplots.AxesSubplot at 0x7f01230e7410>"
            ]
          },
          "metadata": {
            "tags": []
          },
          "execution_count": 301
        },
        {
          "output_type": "display_data",
          "data": {
            "image/png": "[encoded data removed]",
            "text/plain": [
              "<Figure size 432x288 with 1 Axes>"
            ]
          },
          "metadata": {
            "tags": [],
            "needs_background": "light"
          }
        }
      ]
    },
    {
      "cell_type": "code",
      "metadata": {
        "colab": {
          "base_uri": "https://localhost:8080/",
          "height": 304
        },
        "id": "QnmPZREjvXy4",
        "outputId": "ea79333a-59db-4687-94bd-d6c7fa6bf83e"
      },
      "source": [
        "tweet_df.head()"
      ],
      "execution_count": 20,
      "outputs": [
        {
          "output_type": "execute_result",
          "data": {
            "text/html": [
              "<div>\n",
              "<style scoped>\n",
              "    .dataframe tbody tr th:only-of-type {\n",
              "        vertical-align: middle;\n",
              "    }\n",
              "\n",
              "    .dataframe tbody tr th {\n",
              "        vertical-align: top;\n",
              "    }\n",
              "\n",
              "    .dataframe thead th {\n",
              "        text-align: right;\n",
              "    }\n",
              "</style>\n",
              "<table border=\"1\" class=\"dataframe\">\n",
              "  <thead>\n",
              "    <tr style=\"text-align: right;\">\n",
              "      <th></th>\n",
              "      <th>Sentiment score</th>\n",
              "      <th>Post Length</th>\n",
              "      <th>Hashtag count</th>\n",
              "      <th>Content URL count</th>\n",
              "      <th>Tweet count</th>\n",
              "      <th>Followers count</th>\n",
              "      <th>Listed Count</th>\n",
              "      <th>Media Type</th>\n",
              "      <th>Published DateTime</th>\n",
              "      <th>Mentions Count</th>\n",
              "      <th>Post author verified</th>\n",
              "      <th>Likes</th>\n",
              "      <th>Shares</th>\n",
              "      <th>Comments</th>\n",
              "      <th>Impact</th>\n",
              "    </tr>\n",
              "  </thead>\n",
              "  <tbody>\n",
              "    <tr>\n",
              "      <th>0</th>\n",
              "      <td>0.0</td>\n",
              "      <td>17.0</td>\n",
              "      <td>0.0</td>\n",
              "      <td>0.0</td>\n",
              "      <td>1660.0</td>\n",
              "      <td>133.0</td>\n",
              "      <td>0</td>\n",
              "      <td>TEXT</td>\n",
              "      <td>2021-01-28 12:17:24+00:00</td>\n",
              "      <td>0.0</td>\n",
              "      <td>0.0</td>\n",
              "      <td>0.0</td>\n",
              "      <td>0.0</td>\n",
              "      <td>0.0</td>\n",
              "      <td>0.0</td>\n",
              "    </tr>\n",
              "    <tr>\n",
              "      <th>1</th>\n",
              "      <td>19.3</td>\n",
              "      <td>84.0</td>\n",
              "      <td>0.0</td>\n",
              "      <td>1.0</td>\n",
              "      <td>318924.0</td>\n",
              "      <td>1428273.0</td>\n",
              "      <td>5454</td>\n",
              "      <td>TEXT</td>\n",
              "      <td>2021-02-24 06:51:02+00:00</td>\n",
              "      <td>0.0</td>\n",
              "      <td>1.0</td>\n",
              "      <td>10.0</td>\n",
              "      <td>1.0</td>\n",
              "      <td>0.0</td>\n",
              "      <td>110.0</td>\n",
              "    </tr>\n",
              "    <tr>\n",
              "      <th>2</th>\n",
              "      <td>0.0</td>\n",
              "      <td>78.0</td>\n",
              "      <td>0.0</td>\n",
              "      <td>0.0</td>\n",
              "      <td>39976.0</td>\n",
              "      <td>1560.0</td>\n",
              "      <td>0</td>\n",
              "      <td>TEXT</td>\n",
              "      <td>2020-09-15 01:16:32+00:00</td>\n",
              "      <td>0.0</td>\n",
              "      <td>0.0</td>\n",
              "      <td>0.0</td>\n",
              "      <td>0.0</td>\n",
              "      <td>0.0</td>\n",
              "      <td>0.0</td>\n",
              "    </tr>\n",
              "    <tr>\n",
              "      <th>3</th>\n",
              "      <td>0.0</td>\n",
              "      <td>284.0</td>\n",
              "      <td>2.0</td>\n",
              "      <td>0.0</td>\n",
              "      <td>8045.0</td>\n",
              "      <td>27191.0</td>\n",
              "      <td>26</td>\n",
              "      <td>TEXT</td>\n",
              "      <td>2021-02-14 03:53:53+00:00</td>\n",
              "      <td>0.0</td>\n",
              "      <td>1.0</td>\n",
              "      <td>460.0</td>\n",
              "      <td>219.0</td>\n",
              "      <td>4.0</td>\n",
              "      <td>6830.0</td>\n",
              "    </tr>\n",
              "    <tr>\n",
              "      <th>4</th>\n",
              "      <td>-20.0</td>\n",
              "      <td>80.0</td>\n",
              "      <td>0.0</td>\n",
              "      <td>1.0</td>\n",
              "      <td>210996.0</td>\n",
              "      <td>2385.0</td>\n",
              "      <td>0</td>\n",
              "      <td>IMAGE</td>\n",
              "      <td>2020-07-04 13:06:16+00:00</td>\n",
              "      <td>0.0</td>\n",
              "      <td>0.0</td>\n",
              "      <td>0.0</td>\n",
              "      <td>0.0</td>\n",
              "      <td>0.0</td>\n",
              "      <td>0.0</td>\n",
              "    </tr>\n",
              "  </tbody>\n",
              "</table>\n",
              "</div>"
            ],
            "text/plain": [
              "   Sentiment score  Post Length  Hashtag count  ...  Shares  Comments  Impact\n",
              "0              0.0         17.0            0.0  ...     0.0       0.0     0.0\n",
              "1             19.3         84.0            0.0  ...     1.0       0.0   110.0\n",
              "2              0.0         78.0            0.0  ...     0.0       0.0     0.0\n",
              "3              0.0        284.0            2.0  ...   219.0       4.0  6830.0\n",
              "4            -20.0         80.0            0.0  ...     0.0       0.0     0.0\n",
              "\n",
              "[5 rows x 15 columns]"
            ]
          },
          "metadata": {
            "tags": []
          },
          "execution_count": 20
        }
      ]
    },
    {
      "cell_type": "code",
      "metadata": {
        "id": "DgTy7XbynQJi"
      },
      "source": [
        "from datetime import datetime"
      ],
      "execution_count": 21,
      "outputs": []
    },
    {
      "cell_type": "code",
      "metadata": {
        "id": "kuRrrkeyozgH"
      },
      "source": [
        "tweet_df['Published DateTime'] = pd.to_datetime(tweet_df['Published DateTime'])"
      ],
      "execution_count": 22,
      "outputs": []
    },
    {
      "cell_type": "code",
      "metadata": {
        "id": "Eqpw1BlnnCS6"
      },
      "source": [
        "# day\n",
        "tweet_df['Day'] = tweet_df['Published DateTime'].dt.day\n",
        "# month\n",
        "tweet_df['Month'] = tweet_df['Published DateTime'].dt.month\n",
        "# year\n",
        "tweet_df['Year'] = tweet_df['Published DateTime'].dt.year\n",
        "# hour\n",
        "tweet_df['Start_hour'] = tweet_df['Published DateTime'].dt.hour\n",
        "# minute\n",
        "tweet_df['Start_minute'] = tweet_df['Published DateTime'].dt.minute\n",
        "# second\n",
        "tweet_df['Start_second'] = tweet_df['Published DateTime'].dt.second\n",
        "# Monday is 0 and Sunday is 6\n",
        "tweet_df['Start_weekday'] = tweet_df['Published DateTime'].dt.weekday"
      ],
      "execution_count": 38,
      "outputs": []
    },
    {
      "cell_type": "code",
      "metadata": {
        "colab": {
          "base_uri": "https://localhost:8080/"
        },
        "id": "Y-4KohG5pSLz",
        "outputId": "050fe1fb-9b6c-40ac-8e03-7529711af16e"
      },
      "source": [
        "tweet_df['Start_weekday'].unique()"
      ],
      "execution_count": 39,
      "outputs": [
        {
          "output_type": "execute_result",
          "data": {
            "text/plain": [
              "array([3, 2, 1, 6, 5, 4, 0])"
            ]
          },
          "metadata": {
            "tags": []
          },
          "execution_count": 39
        }
      ]
    },
    {
      "cell_type": "code",
      "metadata": {
        "colab": {
          "base_uri": "https://localhost:8080/",
          "height": 350
        },
        "id": "ea-e3rlypeh5",
        "outputId": "ac8668b5-b6c6-4669-a25f-4d7d67ad0c98"
      },
      "source": [
        "sns.countplot(tweet_df['Start_weekday'])"
      ],
      "execution_count": 40,
      "outputs": [
        {
          "output_type": "stream",
          "text": [
            "/usr/local/lib/python3.7/dist-packages/seaborn/_decorators.py:43: FutureWarning: Pass the following variable as a keyword arg: x. From version 0.12, the only valid positional argument will be `data`, and passing other arguments without an explicit keyword will result in an error or misinterpretation.\n",
            "  FutureWarning\n"
          ],
          "name": "stderr"
        },
        {
          "output_type": "execute_result",
          "data": {
            "text/plain": [
              "<matplotlib.axes._subplots.AxesSubplot at 0x7f017fa8b210>"
            ]
          },
          "metadata": {
            "tags": []
          },
          "execution_count": 40
        },
        {
          "output_type": "display_data",
          "data": {
            "image/png": "[encoded data removed]",
            "text/plain": [
              "<Figure size 432x288 with 1 Axes>"
            ]
          },
          "metadata": {
            "tags": [],
            "needs_background": "light"
          }
        }
      ]
    },
    {
      "cell_type": "code",
      "metadata": {
        "id": "4rrBCtGyrQQA"
      },
      "source": [
        "#conditions and values are given first\n",
        "conditions = [\n",
        "    (tweet_df['Start_hour']>=0) & (tweet_df['Start_hour']<6),      \n",
        "    (tweet_df['Start_hour']<12) & (tweet_df['Start_hour']>=6),\n",
        "    (tweet_df['Start_hour']>=12) & (tweet_df['Start_hour']<=18),\n",
        "    (tweet_df['Start_hour']>18)  & (tweet_df['Start_hour']<=24),\n",
        "    ]\n",
        "values = [0,1, 2, 3]\n",
        "tweet_df['Period'] = np.select(conditions, values)"
      ],
      "execution_count": 43,
      "outputs": []
    },
    {
      "cell_type": "code",
      "metadata": {
        "colab": {
          "base_uri": "https://localhost:8080/",
          "height": 350
        },
        "id": "SoBXNsGrucWE",
        "outputId": "80305d64-1ca8-48d6-aa56-4f131421eed8"
      },
      "source": [
        "sns.countplot(tweet_df['Period'])"
      ],
      "execution_count": 44,
      "outputs": [
        {
          "output_type": "stream",
          "text": [
            "/usr/local/lib/python3.7/dist-packages/seaborn/_decorators.py:43: FutureWarning: Pass the following variable as a keyword arg: x. From version 0.12, the only valid positional argument will be `data`, and passing other arguments without an explicit keyword will result in an error or misinterpretation.\n",
            "  FutureWarning\n"
          ],
          "name": "stderr"
        },
        {
          "output_type": "execute_result",
          "data": {
            "text/plain": [
              "<matplotlib.axes._subplots.AxesSubplot at 0x7f017fa80610>"
            ]
          },
          "metadata": {
            "tags": []
          },
          "execution_count": 44
        },
        {
          "output_type": "display_data",
          "data": {
            "image/png": "[encoded data removed]",
            "text/plain": [
              "<Figure size 432x288 with 1 Axes>"
            ]
          },
          "metadata": {
            "tags": [],
            "needs_background": "light"
          }
        }
      ]
    },
    {
      "cell_type": "code",
      "metadata": {
        "colab": {
          "base_uri": "https://localhost:8080/",
          "height": 341
        },
        "id": "hhSXL6MApEg9",
        "outputId": "9c347d5d-041e-4aa0-e693-a24b410edb37"
      },
      "source": [
        "tweet_df.head()"
      ],
      "execution_count": 45,
      "outputs": [
        {
          "output_type": "execute_result",
          "data": {
            "text/html": [
              "<div>\n",
              "<style scoped>\n",
              "    .dataframe tbody tr th:only-of-type {\n",
              "        vertical-align: middle;\n",
              "    }\n",
              "\n",
              "    .dataframe tbody tr th {\n",
              "        vertical-align: top;\n",
              "    }\n",
              "\n",
              "    .dataframe thead th {\n",
              "        text-align: right;\n",
              "    }\n",
              "</style>\n",
              "<table border=\"1\" class=\"dataframe\">\n",
              "  <thead>\n",
              "    <tr style=\"text-align: right;\">\n",
              "      <th></th>\n",
              "      <th>Sentiment score</th>\n",
              "      <th>Post Length</th>\n",
              "      <th>Hashtag count</th>\n",
              "      <th>Content URL count</th>\n",
              "      <th>Tweet count</th>\n",
              "      <th>Followers count</th>\n",
              "      <th>Listed Count</th>\n",
              "      <th>Media Type</th>\n",
              "      <th>Published DateTime</th>\n",
              "      <th>Mentions Count</th>\n",
              "      <th>Post author verified</th>\n",
              "      <th>Likes</th>\n",
              "      <th>Shares</th>\n",
              "      <th>Comments</th>\n",
              "      <th>Impact</th>\n",
              "      <th>Day</th>\n",
              "      <th>Month</th>\n",
              "      <th>Year</th>\n",
              "      <th>Start_hour</th>\n",
              "      <th>Start_minute</th>\n",
              "      <th>Start_second</th>\n",
              "      <th>Start_weekday</th>\n",
              "      <th>Period</th>\n",
              "    </tr>\n",
              "  </thead>\n",
              "  <tbody>\n",
              "    <tr>\n",
              "      <th>0</th>\n",
              "      <td>0.0</td>\n",
              "      <td>17.0</td>\n",
              "      <td>0.0</td>\n",
              "      <td>0.0</td>\n",
              "      <td>1660.0</td>\n",
              "      <td>133.0</td>\n",
              "      <td>0</td>\n",
              "      <td>TEXT</td>\n",
              "      <td>2021-01-28 12:17:24+00:00</td>\n",
              "      <td>0.0</td>\n",
              "      <td>0.0</td>\n",
              "      <td>0.0</td>\n",
              "      <td>0.0</td>\n",
              "      <td>0.0</td>\n",
              "      <td>0.0</td>\n",
              "      <td>28</td>\n",
              "      <td>1</td>\n",
              "      <td>2021</td>\n",
              "      <td>12</td>\n",
              "      <td>17</td>\n",
              "      <td>24</td>\n",
              "      <td>3</td>\n",
              "      <td>2</td>\n",
              "    </tr>\n",
              "    <tr>\n",
              "      <th>1</th>\n",
              "      <td>19.3</td>\n",
              "      <td>84.0</td>\n",
              "      <td>0.0</td>\n",
              "      <td>1.0</td>\n",
              "      <td>318924.0</td>\n",
              "      <td>1428273.0</td>\n",
              "      <td>5454</td>\n",
              "      <td>TEXT</td>\n",
              "      <td>2021-02-24 06:51:02+00:00</td>\n",
              "      <td>0.0</td>\n",
              "      <td>1.0</td>\n",
              "      <td>10.0</td>\n",
              "      <td>1.0</td>\n",
              "      <td>0.0</td>\n",
              "      <td>110.0</td>\n",
              "      <td>24</td>\n",
              "      <td>2</td>\n",
              "      <td>2021</td>\n",
              "      <td>6</td>\n",
              "      <td>51</td>\n",
              "      <td>2</td>\n",
              "      <td>2</td>\n",
              "      <td>1</td>\n",
              "    </tr>\n",
              "    <tr>\n",
              "      <th>2</th>\n",
              "      <td>0.0</td>\n",
              "      <td>78.0</td>\n",
              "      <td>0.0</td>\n",
              "      <td>0.0</td>\n",
              "      <td>39976.0</td>\n",
              "      <td>1560.0</td>\n",
              "      <td>0</td>\n",
              "      <td>TEXT</td>\n",
              "      <td>2020-09-15 01:16:32+00:00</td>\n",
              "      <td>0.0</td>\n",
              "      <td>0.0</td>\n",
              "      <td>0.0</td>\n",
              "      <td>0.0</td>\n",
              "      <td>0.0</td>\n",
              "      <td>0.0</td>\n",
              "      <td>15</td>\n",
              "      <td>9</td>\n",
              "      <td>2020</td>\n",
              "      <td>1</td>\n",
              "      <td>16</td>\n",
              "      <td>32</td>\n",
              "      <td>1</td>\n",
              "      <td>0</td>\n",
              "    </tr>\n",
              "    <tr>\n",
              "      <th>3</th>\n",
              "      <td>0.0</td>\n",
              "      <td>284.0</td>\n",
              "      <td>2.0</td>\n",
              "      <td>0.0</td>\n",
              "      <td>8045.0</td>\n",
              "      <td>27191.0</td>\n",
              "      <td>26</td>\n",
              "      <td>TEXT</td>\n",
              "      <td>2021-02-14 03:53:53+00:00</td>\n",
              "      <td>0.0</td>\n",
              "      <td>1.0</td>\n",
              "      <td>460.0</td>\n",
              "      <td>219.0</td>\n",
              "      <td>4.0</td>\n",
              "      <td>6830.0</td>\n",
              "      <td>14</td>\n",
              "      <td>2</td>\n",
              "      <td>2021</td>\n",
              "      <td>3</td>\n",
              "      <td>53</td>\n",
              "      <td>53</td>\n",
              "      <td>6</td>\n",
              "      <td>0</td>\n",
              "    </tr>\n",
              "    <tr>\n",
              "      <th>4</th>\n",
              "      <td>-20.0</td>\n",
              "      <td>80.0</td>\n",
              "      <td>0.0</td>\n",
              "      <td>1.0</td>\n",
              "      <td>210996.0</td>\n",
              "      <td>2385.0</td>\n",
              "      <td>0</td>\n",
              "      <td>IMAGE</td>\n",
              "      <td>2020-07-04 13:06:16+00:00</td>\n",
              "      <td>0.0</td>\n",
              "      <td>0.0</td>\n",
              "      <td>0.0</td>\n",
              "      <td>0.0</td>\n",
              "      <td>0.0</td>\n",
              "      <td>0.0</td>\n",
              "      <td>4</td>\n",
              "      <td>7</td>\n",
              "      <td>2020</td>\n",
              "      <td>13</td>\n",
              "      <td>6</td>\n",
              "      <td>16</td>\n",
              "      <td>5</td>\n",
              "      <td>2</td>\n",
              "    </tr>\n",
              "  </tbody>\n",
              "</table>\n",
              "</div>"
            ],
            "text/plain": [
              "   Sentiment score  Post Length  ...  Start_weekday  Period\n",
              "0              0.0         17.0  ...              3       2\n",
              "1             19.3         84.0  ...              2       1\n",
              "2              0.0         78.0  ...              1       0\n",
              "3              0.0        284.0  ...              6       0\n",
              "4            -20.0         80.0  ...              5       2\n",
              "\n",
              "[5 rows x 23 columns]"
            ]
          },
          "metadata": {
            "tags": []
          },
          "execution_count": 45
        }
      ]
    },
    {
      "cell_type": "code",
      "metadata": {
        "colab": {
          "base_uri": "https://localhost:8080/"
        },
        "id": "YpW6Sg_aj0Gc",
        "outputId": "4f20bc67-8c1b-40e0-8661-f858c70090d6"
      },
      "source": [
        "tweet_df['Media Type'].nunique()"
      ],
      "execution_count": 46,
      "outputs": [
        {
          "output_type": "execute_result",
          "data": {
            "text/plain": [
              "3"
            ]
          },
          "metadata": {
            "tags": []
          },
          "execution_count": 46
        }
      ]
    },
    {
      "cell_type": "code",
      "metadata": {
        "colab": {
          "base_uri": "https://localhost:8080/",
          "height": 351
        },
        "id": "VpGlnhCK1Xf7",
        "outputId": "9a2af3fd-b9b7-4c2b-ee73-c1deddf07cdb"
      },
      "source": [
        "sns.countplot(tweet_df['Media Type'])"
      ],
      "execution_count": 302,
      "outputs": [
        {
          "output_type": "stream",
          "text": [
            "/usr/local/lib/python3.7/dist-packages/seaborn/_decorators.py:43: FutureWarning: Pass the following variable as a keyword arg: x. From version 0.12, the only valid positional argument will be `data`, and passing other arguments without an explicit keyword will result in an error or misinterpretation.\n",
            "  FutureWarning\n"
          ],
          "name": "stderr"
        },
        {
          "output_type": "execute_result",
          "data": {
            "text/plain": [
              "<matplotlib.axes._subplots.AxesSubplot at 0x7f012312d6d0>"
            ]
          },
          "metadata": {
            "tags": []
          },
          "execution_count": 302
        },
        {
          "output_type": "display_data",
          "data": {
            "image/png": "[encoded data removed]",
            "text/plain": [
              "<Figure size 432x288 with 1 Axes>"
            ]
          },
          "metadata": {
            "tags": [],
            "needs_background": "light"
          }
        }
      ]
    },
    {
      "cell_type": "code",
      "metadata": {
        "colab": {
          "base_uri": "https://localhost:8080/",
          "height": 341
        },
        "id": "MxcYUAdXkXBx",
        "outputId": "38c8b6a9-5904-4688-a03d-527e2d240f28"
      },
      "source": [
        "one_hot = pd.get_dummies(tweet_df['Media Type'])\n",
        "# Drop column 'Media Type' as it is now encoded\n",
        "tweet_df = tweet_df.drop('Media Type',axis = 1)\n",
        "# Join the encoded tweet_df\n",
        "tweet_df = tweet_df.join(one_hot)\n",
        "tweet_df.head()"
      ],
      "execution_count": 47,
      "outputs": [
        {
          "output_type": "execute_result",
          "data": {
            "text/html": [
              "<div>\n",
              "<style scoped>\n",
              "    .dataframe tbody tr th:only-of-type {\n",
              "        vertical-align: middle;\n",
              "    }\n",
              "\n",
              "    .dataframe tbody tr th {\n",
              "        vertical-align: top;\n",
              "    }\n",
              "\n",
              "    .dataframe thead th {\n",
              "        text-align: right;\n",
              "    }\n",
              "</style>\n",
              "<table border=\"1\" class=\"dataframe\">\n",
              "  <thead>\n",
              "    <tr style=\"text-align: right;\">\n",
              "      <th></th>\n",
              "      <th>Sentiment score</th>\n",
              "      <th>Post Length</th>\n",
              "      <th>Hashtag count</th>\n",
              "      <th>Content URL count</th>\n",
              "      <th>Tweet count</th>\n",
              "      <th>Followers count</th>\n",
              "      <th>Listed Count</th>\n",
              "      <th>Published DateTime</th>\n",
              "      <th>Mentions Count</th>\n",
              "      <th>Post author verified</th>\n",
              "      <th>Likes</th>\n",
              "      <th>Shares</th>\n",
              "      <th>Comments</th>\n",
              "      <th>Impact</th>\n",
              "      <th>Day</th>\n",
              "      <th>Month</th>\n",
              "      <th>Year</th>\n",
              "      <th>Start_hour</th>\n",
              "      <th>Start_minute</th>\n",
              "      <th>Start_second</th>\n",
              "      <th>Start_weekday</th>\n",
              "      <th>Period</th>\n",
              "      <th>IMAGE</th>\n",
              "      <th>TEXT</th>\n",
              "      <th>VIDEO</th>\n",
              "    </tr>\n",
              "  </thead>\n",
              "  <tbody>\n",
              "    <tr>\n",
              "      <th>0</th>\n",
              "      <td>0.0</td>\n",
              "      <td>17.0</td>\n",
              "      <td>0.0</td>\n",
              "      <td>0.0</td>\n",
              "      <td>1660.0</td>\n",
              "      <td>133.0</td>\n",
              "      <td>0</td>\n",
              "      <td>2021-01-28 12:17:24+00:00</td>\n",
              "      <td>0.0</td>\n",
              "      <td>0.0</td>\n",
              "      <td>0.0</td>\n",
              "      <td>0.0</td>\n",
              "      <td>0.0</td>\n",
              "      <td>0.0</td>\n",
              "      <td>28</td>\n",
              "      <td>1</td>\n",
              "      <td>2021</td>\n",
              "      <td>12</td>\n",
              "      <td>17</td>\n",
              "      <td>24</td>\n",
              "      <td>3</td>\n",
              "      <td>2</td>\n",
              "      <td>0</td>\n",
              "      <td>1</td>\n",
              "      <td>0</td>\n",
              "    </tr>\n",
              "    <tr>\n",
              "      <th>1</th>\n",
              "      <td>19.3</td>\n",
              "      <td>84.0</td>\n",
              "      <td>0.0</td>\n",
              "      <td>1.0</td>\n",
              "      <td>318924.0</td>\n",
              "      <td>1428273.0</td>\n",
              "      <td>5454</td>\n",
              "      <td>2021-02-24 06:51:02+00:00</td>\n",
              "      <td>0.0</td>\n",
              "      <td>1.0</td>\n",
              "      <td>10.0</td>\n",
              "      <td>1.0</td>\n",
              "      <td>0.0</td>\n",
              "      <td>110.0</td>\n",
              "      <td>24</td>\n",
              "      <td>2</td>\n",
              "      <td>2021</td>\n",
              "      <td>6</td>\n",
              "      <td>51</td>\n",
              "      <td>2</td>\n",
              "      <td>2</td>\n",
              "      <td>1</td>\n",
              "      <td>0</td>\n",
              "      <td>1</td>\n",
              "      <td>0</td>\n",
              "    </tr>\n",
              "    <tr>\n",
              "      <th>2</th>\n",
              "      <td>0.0</td>\n",
              "      <td>78.0</td>\n",
              "      <td>0.0</td>\n",
              "      <td>0.0</td>\n",
              "      <td>39976.0</td>\n",
              "      <td>1560.0</td>\n",
              "      <td>0</td>\n",
              "      <td>2020-09-15 01:16:32+00:00</td>\n",
              "      <td>0.0</td>\n",
              "      <td>0.0</td>\n",
              "      <td>0.0</td>\n",
              "      <td>0.0</td>\n",
              "      <td>0.0</td>\n",
              "      <td>0.0</td>\n",
              "      <td>15</td>\n",
              "      <td>9</td>\n",
              "      <td>2020</td>\n",
              "      <td>1</td>\n",
              "      <td>16</td>\n",
              "      <td>32</td>\n",
              "      <td>1</td>\n",
              "      <td>0</td>\n",
              "      <td>0</td>\n",
              "      <td>1</td>\n",
              "      <td>0</td>\n",
              "    </tr>\n",
              "    <tr>\n",
              "      <th>3</th>\n",
              "      <td>0.0</td>\n",
              "      <td>284.0</td>\n",
              "      <td>2.0</td>\n",
              "      <td>0.0</td>\n",
              "      <td>8045.0</td>\n",
              "      <td>27191.0</td>\n",
              "      <td>26</td>\n",
              "      <td>2021-02-14 03:53:53+00:00</td>\n",
              "      <td>0.0</td>\n",
              "      <td>1.0</td>\n",
              "      <td>460.0</td>\n",
              "      <td>219.0</td>\n",
              "      <td>4.0</td>\n",
              "      <td>6830.0</td>\n",
              "      <td>14</td>\n",
              "      <td>2</td>\n",
              "      <td>2021</td>\n",
              "      <td>3</td>\n",
              "      <td>53</td>\n",
              "      <td>53</td>\n",
              "      <td>6</td>\n",
              "      <td>0</td>\n",
              "      <td>0</td>\n",
              "      <td>1</td>\n",
              "      <td>0</td>\n",
              "    </tr>\n",
              "    <tr>\n",
              "      <th>4</th>\n",
              "      <td>-20.0</td>\n",
              "      <td>80.0</td>\n",
              "      <td>0.0</td>\n",
              "      <td>1.0</td>\n",
              "      <td>210996.0</td>\n",
              "      <td>2385.0</td>\n",
              "      <td>0</td>\n",
              "      <td>2020-07-04 13:06:16+00:00</td>\n",
              "      <td>0.0</td>\n",
              "      <td>0.0</td>\n",
              "      <td>0.0</td>\n",
              "      <td>0.0</td>\n",
              "      <td>0.0</td>\n",
              "      <td>0.0</td>\n",
              "      <td>4</td>\n",
              "      <td>7</td>\n",
              "      <td>2020</td>\n",
              "      <td>13</td>\n",
              "      <td>6</td>\n",
              "      <td>16</td>\n",
              "      <td>5</td>\n",
              "      <td>2</td>\n",
              "      <td>1</td>\n",
              "      <td>0</td>\n",
              "      <td>0</td>\n",
              "    </tr>\n",
              "  </tbody>\n",
              "</table>\n",
              "</div>"
            ],
            "text/plain": [
              "   Sentiment score  Post Length  Hashtag count  ...  IMAGE  TEXT  VIDEO\n",
              "0              0.0         17.0            0.0  ...      0     1      0\n",
              "1             19.3         84.0            0.0  ...      0     1      0\n",
              "2              0.0         78.0            0.0  ...      0     1      0\n",
              "3              0.0        284.0            2.0  ...      0     1      0\n",
              "4            -20.0         80.0            0.0  ...      1     0      0\n",
              "\n",
              "[5 rows x 25 columns]"
            ]
          },
          "metadata": {
            "tags": []
          },
          "execution_count": 47
        }
      ]
    },
    {
      "cell_type": "code",
      "metadata": {
        "id": "rVaiX95sxTCo"
      },
      "source": [
        "tweet_df.drop(['Year','Start_hour','Start_minute','Start_second','Published DateTime'],axis=1,inplace=True)"
      ],
      "execution_count": 48,
      "outputs": []
    },
    {
      "cell_type": "code",
      "metadata": {
        "colab": {
          "base_uri": "https://localhost:8080/",
          "height": 841
        },
        "id": "UJKCgzAjwnfu",
        "outputId": "fdacfea0-9dcb-4188-d24c-aaeefeb2d3a9"
      },
      "source": [
        "plt.figure(figsize=(15,12))\n",
        "sns.countplot(tweet_df['Day'])"
      ],
      "execution_count": 294,
      "outputs": [
        {
          "output_type": "stream",
          "text": [
            "/usr/local/lib/python3.7/dist-packages/seaborn/_decorators.py:43: FutureWarning: Pass the following variable as a keyword arg: x. From version 0.12, the only valid positional argument will be `data`, and passing other arguments without an explicit keyword will result in an error or misinterpretation.\n",
            "  FutureWarning\n"
          ],
          "name": "stderr"
        },
        {
          "output_type": "execute_result",
          "data": {
            "text/plain": [
              "<matplotlib.axes._subplots.AxesSubplot at 0x7f34632db610>"
            ]
          },
          "metadata": {
            "tags": []
          },
          "execution_count": 294
        },
        {
          "output_type": "display_data",
          "data": {
            "image/png": "[encoded data removed]",
            "text/plain": [
              "<Figure size 1080x864 with 1 Axes>"
            ]
          },
          "metadata": {
            "tags": []
          }
        }
      ]
    },
    {
      "cell_type": "code",
      "metadata": {
        "colab": {
          "base_uri": "https://localhost:8080/",
          "height": 841
        },
        "id": "wl8NMQ31xeD3",
        "outputId": "51e18d47-1764-4126-f338-e80ec18176e2"
      },
      "source": [
        "plt.figure(figsize=(15,12))\n",
        "sns.countplot(tweet_df['Month'])"
      ],
      "execution_count": 295,
      "outputs": [
        {
          "output_type": "stream",
          "text": [
            "/usr/local/lib/python3.7/dist-packages/seaborn/_decorators.py:43: FutureWarning: Pass the following variable as a keyword arg: x. From version 0.12, the only valid positional argument will be `data`, and passing other arguments without an explicit keyword will result in an error or misinterpretation.\n",
            "  FutureWarning\n"
          ],
          "name": "stderr"
        },
        {
          "output_type": "execute_result",
          "data": {
            "text/plain": [
              "<matplotlib.axes._subplots.AxesSubplot at 0x7f3462f65090>"
            ]
          },
          "metadata": {
            "tags": []
          },
          "execution_count": 295
        },
        {
          "output_type": "display_data",
          "data": {
            "image/png": "[encoded data removed]",
            "text/plain": [
              "<Figure size 1080x864 with 1 Axes>"
            ]
          },
          "metadata": {
            "tags": []
          }
        }
      ]
    },
    {
      "cell_type": "code",
      "metadata": {
        "id": "t37EZd69Fxr4"
      },
      "source": [
        "#Multicollinearity\n",
        "from statsmodels.stats.outliers_influence import variance_inflation_factor\n",
        "def calc_vif(X):\n",
        "\n",
        "    # Calculating VIF\n",
        "    vif = pd.DataFrame()\n",
        "    vif[\"variables\"] = X.columns\n",
        "    vif[\"VIF\"] = [variance_inflation_factor(X.values, i) for i in range(X.shape[1])]\n",
        "\n",
        "    return(vif)"
      ],
      "execution_count": 296,
      "outputs": []
    },
    {
      "cell_type": "code",
      "metadata": {
        "colab": {
          "base_uri": "https://localhost:8080/",
          "height": 665
        },
        "id": "H3U9ifINF7rc",
        "outputId": "c73a2a45-7607-404a-e3ec-a2e45ac785e0"
      },
      "source": [
        "calc_vif(tweet_df[[i for i in tweet_df.describe().columns if i in tweet_df.columns]])"
      ],
      "execution_count": 297,
      "outputs": [
        {
          "output_type": "execute_result",
          "data": {
            "text/html": [
              "<div>\n",
              "<style scoped>\n",
              "    .dataframe tbody tr th:only-of-type {\n",
              "        vertical-align: middle;\n",
              "    }\n",
              "\n",
              "    .dataframe tbody tr th {\n",
              "        vertical-align: top;\n",
              "    }\n",
              "\n",
              "    .dataframe thead th {\n",
              "        text-align: right;\n",
              "    }\n",
              "</style>\n",
              "<table border=\"1\" class=\"dataframe\">\n",
              "  <thead>\n",
              "    <tr style=\"text-align: right;\">\n",
              "      <th></th>\n",
              "      <th>variables</th>\n",
              "      <th>VIF</th>\n",
              "    </tr>\n",
              "  </thead>\n",
              "  <tbody>\n",
              "    <tr>\n",
              "      <th>0</th>\n",
              "      <td>Sentiment score</td>\n",
              "      <td>1.030581e+00</td>\n",
              "    </tr>\n",
              "    <tr>\n",
              "      <th>1</th>\n",
              "      <td>Post Length</td>\n",
              "      <td>1.093276e+00</td>\n",
              "    </tr>\n",
              "    <tr>\n",
              "      <th>2</th>\n",
              "      <td>Hashtag count</td>\n",
              "      <td>1.074329e+00</td>\n",
              "    </tr>\n",
              "    <tr>\n",
              "      <th>3</th>\n",
              "      <td>Content URL count</td>\n",
              "      <td>1.243600e+00</td>\n",
              "    </tr>\n",
              "    <tr>\n",
              "      <th>4</th>\n",
              "      <td>Tweet count</td>\n",
              "      <td>1.021541e+00</td>\n",
              "    </tr>\n",
              "    <tr>\n",
              "      <th>5</th>\n",
              "      <td>Followers count</td>\n",
              "      <td>2.035732e+00</td>\n",
              "    </tr>\n",
              "    <tr>\n",
              "      <th>6</th>\n",
              "      <td>Listed Count</td>\n",
              "      <td>1.937903e+00</td>\n",
              "    </tr>\n",
              "    <tr>\n",
              "      <th>7</th>\n",
              "      <td>Mentions Count</td>\n",
              "      <td>1.037684e+00</td>\n",
              "    </tr>\n",
              "    <tr>\n",
              "      <th>8</th>\n",
              "      <td>Post author verified</td>\n",
              "      <td>1.304255e+00</td>\n",
              "    </tr>\n",
              "    <tr>\n",
              "      <th>9</th>\n",
              "      <td>Likes</td>\n",
              "      <td>1.192105e+08</td>\n",
              "    </tr>\n",
              "    <tr>\n",
              "      <th>10</th>\n",
              "      <td>Shares</td>\n",
              "      <td>1.729745e+07</td>\n",
              "    </tr>\n",
              "    <tr>\n",
              "      <th>11</th>\n",
              "      <td>Comments</td>\n",
              "      <td>4.483916e+05</td>\n",
              "    </tr>\n",
              "    <tr>\n",
              "      <th>12</th>\n",
              "      <td>Impact</td>\n",
              "      <td>1.860915e+08</td>\n",
              "    </tr>\n",
              "    <tr>\n",
              "      <th>13</th>\n",
              "      <td>Day</td>\n",
              "      <td>1.004570e+00</td>\n",
              "    </tr>\n",
              "    <tr>\n",
              "      <th>14</th>\n",
              "      <td>Month</td>\n",
              "      <td>1.006970e+00</td>\n",
              "    </tr>\n",
              "    <tr>\n",
              "      <th>15</th>\n",
              "      <td>Start_weekday</td>\n",
              "      <td>1.005591e+00</td>\n",
              "    </tr>\n",
              "    <tr>\n",
              "      <th>16</th>\n",
              "      <td>Period</td>\n",
              "      <td>1.010952e+00</td>\n",
              "    </tr>\n",
              "    <tr>\n",
              "      <th>17</th>\n",
              "      <td>IMAGE</td>\n",
              "      <td>7.446533e+00</td>\n",
              "    </tr>\n",
              "    <tr>\n",
              "      <th>18</th>\n",
              "      <td>TEXT</td>\n",
              "      <td>1.130153e+01</td>\n",
              "    </tr>\n",
              "    <tr>\n",
              "      <th>19</th>\n",
              "      <td>VIDEO</td>\n",
              "      <td>1.846809e+00</td>\n",
              "    </tr>\n",
              "  </tbody>\n",
              "</table>\n",
              "</div>"
            ],
            "text/plain": [
              "               variables           VIF\n",
              "0        Sentiment score  1.030581e+00\n",
              "1            Post Length  1.093276e+00\n",
              "2          Hashtag count  1.074329e+00\n",
              "3      Content URL count  1.243600e+00\n",
              "4            Tweet count  1.021541e+00\n",
              "5        Followers count  2.035732e+00\n",
              "6           Listed Count  1.937903e+00\n",
              "7         Mentions Count  1.037684e+00\n",
              "8   Post author verified  1.304255e+00\n",
              "9                  Likes  1.192105e+08\n",
              "10                Shares  1.729745e+07\n",
              "11              Comments  4.483916e+05\n",
              "12                Impact  1.860915e+08\n",
              "13                   Day  1.004570e+00\n",
              "14                 Month  1.006970e+00\n",
              "15         Start_weekday  1.005591e+00\n",
              "16                Period  1.010952e+00\n",
              "17                 IMAGE  7.446533e+00\n",
              "18                  TEXT  1.130153e+01\n",
              "19                 VIDEO  1.846809e+00"
            ]
          },
          "metadata": {
            "tags": []
          },
          "execution_count": 297
        }
      ]
    },
    {
      "cell_type": "code",
      "metadata": {
        "colab": {
          "base_uri": "https://localhost:8080/",
          "height": 1000
        },
        "id": "BQ30C-DEGqx_",
        "outputId": "885e7855-90ac-4c90-fbab-9cdcd0f81782"
      },
      "source": [
        "#Lets find out which all numerical column have outliers using boxplot\n",
        "plt.figure(figsize=(20,20))\n",
        "tweet_df.boxplot(numeric_cols)"
      ],
      "execution_count": 298,
      "outputs": [
        {
          "output_type": "execute_result",
          "data": {
            "text/plain": [
              "<matplotlib.axes._subplots.AxesSubplot at 0x7f3462f10510>"
            ]
          },
          "metadata": {
            "tags": []
          },
          "execution_count": 298
        },
        {
          "output_type": "display_data",
          "data": {
            "image/png": "[encoded data removed]",
            "text/plain": [
              "<Figure size 1440x1440 with 1 Axes>"
            ]
          },
          "metadata": {
            "tags": []
          }
        }
      ]
    },
    {
      "cell_type": "code",
      "metadata": {
        "colab": {
          "base_uri": "https://localhost:8080/",
          "height": 672
        },
        "id": "oqnT1tQFC29x",
        "outputId": "3f856e87-634d-4495-b8c8-15e0f6bbded2"
      },
      "source": [
        "corr =tweet_df.corr()\n",
        "plt.figure(figsize=(12, 9))\n",
        "ax = sns.heatmap(\n",
        "    corr, \n",
        "    vmin=-1, vmax=1, center=0,\n",
        "    cmap=sns.diverging_palette(20, 220, n=200),\n",
        "    square=True\n",
        ")\n",
        "ax.set_xticklabels(\n",
        "    ax.get_xticklabels(),\n",
        "    rotation=45,\n",
        "    horizontalalignment='right'\n",
        ");"
      ],
      "execution_count": 299,
      "outputs": [
        {
          "output_type": "display_data",
          "data": {
            "image/png": "[encoded data removed]",
            "text/plain": [
              "<Figure size 864x648 with 2 Axes>"
            ]
          },
          "metadata": {
            "tags": []
          }
        }
      ]
    },
    {
      "cell_type": "code",
      "metadata": {
        "id": "lPd_lNQV-AUp"
      },
      "source": [
        "def compute_impurity(feature):\n",
        "    \"\"\"\n",
        "    This function calculates impurity of a feature.\n",
        "    input: feature (this needs to be a Pandas series)\n",
        "    output: feature impurity\n",
        "    \"\"\"\n",
        "    probs = feature.value_counts(normalize=True)\n",
        "    impurity = -1 * np.sum(np.log2(probs) * probs)   \n",
        "    return(round(impurity, 3))"
      ],
      "execution_count": 51,
      "outputs": []
    },
    {
      "cell_type": "code",
      "metadata": {
        "id": "oBl52cB9-Fjb"
      },
      "source": [
        "def comp_feature_information_gain(df, target, descriptive_feature):\n",
        "    \"\"\"\n",
        "    This function calculates information gain for splitting on \n",
        "    a particular descriptive feature for a given dataset\n",
        "    and a given impurity criteria.\n",
        "    Supported split criterion: 'entropy'\n",
        "    \"\"\"\n",
        "    target_entropy = compute_impurity(df[target])\n",
        "\n",
        "    # we define two lists below:\n",
        "    # entropy_list to store the entropy of each partition\n",
        "    # weight_list to store the relative number of observations in each partition\n",
        "    entropy_list = list()\n",
        "    weight_list = list()\n",
        "    \n",
        "    # loop over each level of the descriptive feature\n",
        "    # to partition the dataset with respect to that level\n",
        "    # and compute the entropy and the weight of the level's partition\n",
        "    for level in df[descriptive_feature].unique():\n",
        "        df_feature_level = df[df[descriptive_feature] == level]\n",
        "        entropy_level = compute_impurity(df_feature_level[target])\n",
        "        entropy_list.append(round(entropy_level, 3))\n",
        "        weight_level = len(df_feature_level) / len(df)\n",
        "        weight_list.append(round(weight_level, 3))\n",
        "\n",
        "    feature_remaining_impurity = np.sum(np.array(entropy_list) * np.array(weight_list))\n",
        "    \n",
        "    \n",
        "    information_gain = target_entropy - feature_remaining_impurity\n",
        "    \n",
        "\n",
        "    return(information_gain)"
      ],
      "execution_count": 52,
      "outputs": []
    },
    {
      "cell_type": "code",
      "metadata": {
        "colab": {
          "base_uri": "https://localhost:8080/",
          "height": 780
        },
        "id": "zwejkijK-PA3",
        "outputId": "86d4645f-1b3e-405a-a6c7-0c97e204cfb9"
      },
      "source": [
        "info_gain={}\n",
        "for feature in tweet_df.drop(columns='Impact').columns:\n",
        "    feature_info_gain = comp_feature_information_gain(tweet_df, 'Impact', feature)\n",
        "    info_gain[feature]=feature_info_gain\n",
        "    print(feature, ':', feature_info_gain)\n",
        "keys = list(info_gain.keys())\n",
        "# get values in the same order as keys, and parse percentage values\n",
        "vals = [float(info_gain[k]) for k in info_gain]\n",
        "plt.figure(figsize=(15,7))\n",
        "sns.barplot(y=keys, x=vals)\n",
        "plt.title('Feature Importance')"
      ],
      "execution_count": 53,
      "outputs": [
        {
          "output_type": "stream",
          "text": [
            "Sentiment score : 3.1422039999999987\n",
            "Post Length : 3.631518\n",
            "Hashtag count : 0.46563299999999863\n",
            "Content URL count : 0.32498699999999836\n",
            "Tweet count : 9.335082\n",
            "Followers count : 9.072526\n",
            "Listed Count : 7.88575\n",
            "Mentions Count : 0.16820599999999786\n",
            "Post author verified : 0.30525999999999875\n",
            "Likes : 8.056389\n",
            "Shares : 6.733421\n",
            "Comments : 0.9853570000000023\n",
            "Day : 1.7045260000000004\n",
            "Month : 1.1114650000000008\n",
            "Start_weekday : 0.783294999999999\n",
            "Period : 0.4769110000000012\n",
            "IMAGE : 0.245336\n",
            "TEXT : 0.2562319999999989\n",
            "VIDEO : 0.09695199999999993\n"
          ],
          "name": "stdout"
        },
        {
          "output_type": "execute_result",
          "data": {
            "text/plain": [
              "Text(0.5, 1.0, 'Feature Importance')"
            ]
          },
          "metadata": {
            "tags": []
          },
          "execution_count": 53
        },
        {
          "output_type": "display_data",
          "data": {
            "image/png": "[encoded data removed]",
            "text/plain": [
              "<Figure size 1080x504 with 1 Axes>"
            ]
          },
          "metadata": {
            "tags": [],
            "needs_background": "light"
          }
        }
      ]
    },
    {
      "cell_type": "markdown",
      "metadata": {
        "id": "QdVFpHBO_uAS"
      },
      "source": [
        "We can drop the features which have less than 0.3 score"
      ]
    },
    {
      "cell_type": "code",
      "metadata": {
        "id": "0dQYrk51-J_x"
      },
      "source": [
        "tweet_df.drop(['Mentions Count','Post author verified','IMAGE','TEXT','VIDEO'],axis=1,inplace=True)"
      ],
      "execution_count": 56,
      "outputs": []
    },
    {
      "cell_type": "code",
      "metadata": {
        "colab": {
          "base_uri": "https://localhost:8080/",
          "height": 417
        },
        "id": "N5tNb3huNwms",
        "outputId": "d175e5bb-e05a-4cfd-d685-ea3d218ae3d4"
      },
      "source": [
        "tweet_df"
      ],
      "execution_count": 63,
      "outputs": [
        {
          "output_type": "execute_result",
          "data": {
            "text/html": [
              "<div>\n",
              "<style scoped>\n",
              "    .dataframe tbody tr th:only-of-type {\n",
              "        vertical-align: middle;\n",
              "    }\n",
              "\n",
              "    .dataframe tbody tr th {\n",
              "        vertical-align: top;\n",
              "    }\n",
              "\n",
              "    .dataframe thead th {\n",
              "        text-align: right;\n",
              "    }\n",
              "</style>\n",
              "<table border=\"1\" class=\"dataframe\">\n",
              "  <thead>\n",
              "    <tr style=\"text-align: right;\">\n",
              "      <th></th>\n",
              "      <th>Sentiment score</th>\n",
              "      <th>Post Length</th>\n",
              "      <th>Hashtag count</th>\n",
              "      <th>Content URL count</th>\n",
              "      <th>Tweet count</th>\n",
              "      <th>Followers count</th>\n",
              "      <th>Listed Count</th>\n",
              "      <th>Likes</th>\n",
              "      <th>Shares</th>\n",
              "      <th>Comments</th>\n",
              "      <th>Impact</th>\n",
              "      <th>Day</th>\n",
              "      <th>Month</th>\n",
              "      <th>Start_weekday</th>\n",
              "      <th>Period</th>\n",
              "    </tr>\n",
              "  </thead>\n",
              "  <tbody>\n",
              "    <tr>\n",
              "      <th>0</th>\n",
              "      <td>0.0</td>\n",
              "      <td>17.0</td>\n",
              "      <td>0.0</td>\n",
              "      <td>0.0</td>\n",
              "      <td>1660.0</td>\n",
              "      <td>133.0</td>\n",
              "      <td>0</td>\n",
              "      <td>0.0</td>\n",
              "      <td>0.0</td>\n",
              "      <td>0.0</td>\n",
              "      <td>0.0</td>\n",
              "      <td>28</td>\n",
              "      <td>1</td>\n",
              "      <td>3</td>\n",
              "      <td>2</td>\n",
              "    </tr>\n",
              "    <tr>\n",
              "      <th>1</th>\n",
              "      <td>19.3</td>\n",
              "      <td>84.0</td>\n",
              "      <td>0.0</td>\n",
              "      <td>1.0</td>\n",
              "      <td>318924.0</td>\n",
              "      <td>1428273.0</td>\n",
              "      <td>5454</td>\n",
              "      <td>10.0</td>\n",
              "      <td>1.0</td>\n",
              "      <td>0.0</td>\n",
              "      <td>110.0</td>\n",
              "      <td>24</td>\n",
              "      <td>2</td>\n",
              "      <td>2</td>\n",
              "      <td>1</td>\n",
              "    </tr>\n",
              "    <tr>\n",
              "      <th>2</th>\n",
              "      <td>0.0</td>\n",
              "      <td>78.0</td>\n",
              "      <td>0.0</td>\n",
              "      <td>0.0</td>\n",
              "      <td>39976.0</td>\n",
              "      <td>1560.0</td>\n",
              "      <td>0</td>\n",
              "      <td>0.0</td>\n",
              "      <td>0.0</td>\n",
              "      <td>0.0</td>\n",
              "      <td>0.0</td>\n",
              "      <td>15</td>\n",
              "      <td>9</td>\n",
              "      <td>1</td>\n",
              "      <td>0</td>\n",
              "    </tr>\n",
              "    <tr>\n",
              "      <th>3</th>\n",
              "      <td>0.0</td>\n",
              "      <td>284.0</td>\n",
              "      <td>2.0</td>\n",
              "      <td>0.0</td>\n",
              "      <td>8045.0</td>\n",
              "      <td>27191.0</td>\n",
              "      <td>26</td>\n",
              "      <td>460.0</td>\n",
              "      <td>219.0</td>\n",
              "      <td>4.0</td>\n",
              "      <td>6830.0</td>\n",
              "      <td>14</td>\n",
              "      <td>2</td>\n",
              "      <td>6</td>\n",
              "      <td>0</td>\n",
              "    </tr>\n",
              "    <tr>\n",
              "      <th>4</th>\n",
              "      <td>-20.0</td>\n",
              "      <td>80.0</td>\n",
              "      <td>0.0</td>\n",
              "      <td>1.0</td>\n",
              "      <td>210996.0</td>\n",
              "      <td>2385.0</td>\n",
              "      <td>0</td>\n",
              "      <td>0.0</td>\n",
              "      <td>0.0</td>\n",
              "      <td>0.0</td>\n",
              "      <td>0.0</td>\n",
              "      <td>4</td>\n",
              "      <td>7</td>\n",
              "      <td>5</td>\n",
              "      <td>2</td>\n",
              "    </tr>\n",
              "    <tr>\n",
              "      <th>...</th>\n",
              "      <td>...</td>\n",
              "      <td>...</td>\n",
              "      <td>...</td>\n",
              "      <td>...</td>\n",
              "      <td>...</td>\n",
              "      <td>...</td>\n",
              "      <td>...</td>\n",
              "      <td>...</td>\n",
              "      <td>...</td>\n",
              "      <td>...</td>\n",
              "      <td>...</td>\n",
              "      <td>...</td>\n",
              "      <td>...</td>\n",
              "      <td>...</td>\n",
              "      <td>...</td>\n",
              "    </tr>\n",
              "    <tr>\n",
              "      <th>49994</th>\n",
              "      <td>0.0</td>\n",
              "      <td>171.0</td>\n",
              "      <td>2.0</td>\n",
              "      <td>0.0</td>\n",
              "      <td>9694.0</td>\n",
              "      <td>92163.0</td>\n",
              "      <td>1103</td>\n",
              "      <td>1505.0</td>\n",
              "      <td>484.0</td>\n",
              "      <td>0.0</td>\n",
              "      <td>19890.0</td>\n",
              "      <td>7</td>\n",
              "      <td>11</td>\n",
              "      <td>5</td>\n",
              "      <td>1</td>\n",
              "    </tr>\n",
              "    <tr>\n",
              "      <th>49995</th>\n",
              "      <td>0.0</td>\n",
              "      <td>107.0</td>\n",
              "      <td>0.0</td>\n",
              "      <td>1.0</td>\n",
              "      <td>58592.0</td>\n",
              "      <td>61369.0</td>\n",
              "      <td>0</td>\n",
              "      <td>0.0</td>\n",
              "      <td>0.0</td>\n",
              "      <td>0.0</td>\n",
              "      <td>0.0</td>\n",
              "      <td>18</td>\n",
              "      <td>8</td>\n",
              "      <td>1</td>\n",
              "      <td>1</td>\n",
              "    </tr>\n",
              "    <tr>\n",
              "      <th>49996</th>\n",
              "      <td>0.0</td>\n",
              "      <td>123.0</td>\n",
              "      <td>0.0</td>\n",
              "      <td>1.0</td>\n",
              "      <td>69967.0</td>\n",
              "      <td>37227.0</td>\n",
              "      <td>0</td>\n",
              "      <td>0.0</td>\n",
              "      <td>0.0</td>\n",
              "      <td>0.0</td>\n",
              "      <td>0.0</td>\n",
              "      <td>3</td>\n",
              "      <td>6</td>\n",
              "      <td>2</td>\n",
              "      <td>0</td>\n",
              "    </tr>\n",
              "    <tr>\n",
              "      <th>49997</th>\n",
              "      <td>0.0</td>\n",
              "      <td>226.0</td>\n",
              "      <td>0.0</td>\n",
              "      <td>1.0</td>\n",
              "      <td>1587.0</td>\n",
              "      <td>40.0</td>\n",
              "      <td>0</td>\n",
              "      <td>0.0</td>\n",
              "      <td>0.0</td>\n",
              "      <td>0.0</td>\n",
              "      <td>0.0</td>\n",
              "      <td>20</td>\n",
              "      <td>6</td>\n",
              "      <td>5</td>\n",
              "      <td>2</td>\n",
              "    </tr>\n",
              "    <tr>\n",
              "      <th>49999</th>\n",
              "      <td>0.0</td>\n",
              "      <td>250.0</td>\n",
              "      <td>7.0</td>\n",
              "      <td>1.0</td>\n",
              "      <td>5991.0</td>\n",
              "      <td>4385.0</td>\n",
              "      <td>0</td>\n",
              "      <td>0.0</td>\n",
              "      <td>0.0</td>\n",
              "      <td>0.0</td>\n",
              "      <td>0.0</td>\n",
              "      <td>29</td>\n",
              "      <td>10</td>\n",
              "      <td>3</td>\n",
              "      <td>1</td>\n",
              "    </tr>\n",
              "  </tbody>\n",
              "</table>\n",
              "<p>47512 rows × 15 columns</p>\n",
              "</div>"
            ],
            "text/plain": [
              "       Sentiment score  Post Length  ...  Start_weekday  Period\n",
              "0                  0.0         17.0  ...              3       2\n",
              "1                 19.3         84.0  ...              2       1\n",
              "2                  0.0         78.0  ...              1       0\n",
              "3                  0.0        284.0  ...              6       0\n",
              "4                -20.0         80.0  ...              5       2\n",
              "...                ...          ...  ...            ...     ...\n",
              "49994              0.0        171.0  ...              5       1\n",
              "49995              0.0        107.0  ...              1       1\n",
              "49996              0.0        123.0  ...              2       0\n",
              "49997              0.0        226.0  ...              5       2\n",
              "49999              0.0        250.0  ...              3       1\n",
              "\n",
              "[47512 rows x 15 columns]"
            ]
          },
          "metadata": {
            "tags": []
          },
          "execution_count": 63
        }
      ]
    },
    {
      "cell_type": "code",
      "metadata": {
        "id": "zw5b13AZK1TJ"
      },
      "source": [
        "from sklearn.preprocessing import StandardScaler"
      ],
      "execution_count": 64,
      "outputs": []
    },
    {
      "cell_type": "code",
      "metadata": {
        "id": "-UrlAYfON9yr"
      },
      "source": [
        "trans = StandardScaler()\n",
        "data= trans.fit_transform(tweet_df)\n",
        "tweets=pd.DataFrame(data)"
      ],
      "execution_count": 221,
      "outputs": []
    },
    {
      "cell_type": "code",
      "metadata": {
        "colab": {
          "base_uri": "https://localhost:8080/",
          "height": 417
        },
        "id": "0P_ljeSFcaML",
        "outputId": "6e427cf1-5c79-4212-8ccc-b75d3aff2376"
      },
      "source": [
        "tweets"
      ],
      "execution_count": 222,
      "outputs": [
        {
          "output_type": "execute_result",
          "data": {
            "text/html": [
              "<div>\n",
              "<style scoped>\n",
              "    .dataframe tbody tr th:only-of-type {\n",
              "        vertical-align: middle;\n",
              "    }\n",
              "\n",
              "    .dataframe tbody tr th {\n",
              "        vertical-align: top;\n",
              "    }\n",
              "\n",
              "    .dataframe thead th {\n",
              "        text-align: right;\n",
              "    }\n",
              "</style>\n",
              "<table border=\"1\" class=\"dataframe\">\n",
              "  <thead>\n",
              "    <tr style=\"text-align: right;\">\n",
              "      <th></th>\n",
              "      <th>0</th>\n",
              "      <th>1</th>\n",
              "      <th>2</th>\n",
              "      <th>3</th>\n",
              "      <th>4</th>\n",
              "      <th>5</th>\n",
              "      <th>6</th>\n",
              "      <th>7</th>\n",
              "      <th>8</th>\n",
              "      <th>9</th>\n",
              "      <th>10</th>\n",
              "      <th>11</th>\n",
              "      <th>12</th>\n",
              "      <th>13</th>\n",
              "      <th>14</th>\n",
              "    </tr>\n",
              "  </thead>\n",
              "  <tbody>\n",
              "    <tr>\n",
              "      <th>0</th>\n",
              "      <td>-0.096857</td>\n",
              "      <td>-1.735129</td>\n",
              "      <td>-0.509715</td>\n",
              "      <td>-0.925051</td>\n",
              "      <td>-0.152841</td>\n",
              "      <td>-0.367026</td>\n",
              "      <td>-0.355363</td>\n",
              "      <td>-0.347004</td>\n",
              "      <td>-0.292449</td>\n",
              "      <td>-0.028663</td>\n",
              "      <td>-0.368301</td>\n",
              "      <td>1.382008</td>\n",
              "      <td>-1.589040</td>\n",
              "      <td>0.039500</td>\n",
              "      <td>0.640734</td>\n",
              "    </tr>\n",
              "    <tr>\n",
              "      <th>1</th>\n",
              "      <td>1.762599</td>\n",
              "      <td>-0.887027</td>\n",
              "      <td>-0.509715</td>\n",
              "      <td>0.972989</td>\n",
              "      <td>0.050926</td>\n",
              "      <td>-0.249380</td>\n",
              "      <td>-0.158216</td>\n",
              "      <td>-0.345730</td>\n",
              "      <td>-0.292115</td>\n",
              "      <td>-0.028663</td>\n",
              "      <td>-0.367179</td>\n",
              "      <td>0.930434</td>\n",
              "      <td>-1.292931</td>\n",
              "      <td>-0.472989</td>\n",
              "      <td>-0.386412</td>\n",
              "    </tr>\n",
              "    <tr>\n",
              "      <th>2</th>\n",
              "      <td>-0.096857</td>\n",
              "      <td>-0.962976</td>\n",
              "      <td>-0.509715</td>\n",
              "      <td>-0.925051</td>\n",
              "      <td>-0.128232</td>\n",
              "      <td>-0.366909</td>\n",
              "      <td>-0.355363</td>\n",
              "      <td>-0.347004</td>\n",
              "      <td>-0.292449</td>\n",
              "      <td>-0.028663</td>\n",
              "      <td>-0.368301</td>\n",
              "      <td>-0.085606</td>\n",
              "      <td>0.779837</td>\n",
              "      <td>-0.985479</td>\n",
              "      <td>-1.413558</td>\n",
              "    </tr>\n",
              "    <tr>\n",
              "      <th>3</th>\n",
              "      <td>-0.096857</td>\n",
              "      <td>1.644621</td>\n",
              "      <td>0.971255</td>\n",
              "      <td>-0.925051</td>\n",
              "      <td>-0.148740</td>\n",
              "      <td>-0.364797</td>\n",
              "      <td>-0.354424</td>\n",
              "      <td>-0.288394</td>\n",
              "      <td>-0.219196</td>\n",
              "      <td>-0.020353</td>\n",
              "      <td>-0.298649</td>\n",
              "      <td>-0.198500</td>\n",
              "      <td>-1.292931</td>\n",
              "      <td>1.576969</td>\n",
              "      <td>-1.413558</td>\n",
              "    </tr>\n",
              "    <tr>\n",
              "      <th>4</th>\n",
              "      <td>-2.023755</td>\n",
              "      <td>-0.937660</td>\n",
              "      <td>-0.509715</td>\n",
              "      <td>0.972989</td>\n",
              "      <td>-0.018393</td>\n",
              "      <td>-0.366841</td>\n",
              "      <td>-0.355363</td>\n",
              "      <td>-0.347004</td>\n",
              "      <td>-0.292449</td>\n",
              "      <td>-0.028663</td>\n",
              "      <td>-0.368301</td>\n",
              "      <td>-1.327433</td>\n",
              "      <td>0.187618</td>\n",
              "      <td>1.064480</td>\n",
              "      <td>0.640734</td>\n",
              "    </tr>\n",
              "    <tr>\n",
              "      <th>...</th>\n",
              "      <td>...</td>\n",
              "      <td>...</td>\n",
              "      <td>...</td>\n",
              "      <td>...</td>\n",
              "      <td>...</td>\n",
              "      <td>...</td>\n",
              "      <td>...</td>\n",
              "      <td>...</td>\n",
              "      <td>...</td>\n",
              "      <td>...</td>\n",
              "      <td>...</td>\n",
              "      <td>...</td>\n",
              "      <td>...</td>\n",
              "      <td>...</td>\n",
              "      <td>...</td>\n",
              "    </tr>\n",
              "    <tr>\n",
              "      <th>47507</th>\n",
              "      <td>-0.096857</td>\n",
              "      <td>0.214240</td>\n",
              "      <td>0.971255</td>\n",
              "      <td>-0.925051</td>\n",
              "      <td>-0.147681</td>\n",
              "      <td>-0.359445</td>\n",
              "      <td>-0.315493</td>\n",
              "      <td>-0.155246</td>\n",
              "      <td>-0.130556</td>\n",
              "      <td>-0.028663</td>\n",
              "      <td>-0.165465</td>\n",
              "      <td>-0.988753</td>\n",
              "      <td>1.372056</td>\n",
              "      <td>1.064480</td>\n",
              "      <td>-0.386412</td>\n",
              "    </tr>\n",
              "    <tr>\n",
              "      <th>47508</th>\n",
              "      <td>-0.096857</td>\n",
              "      <td>-0.595887</td>\n",
              "      <td>-0.509715</td>\n",
              "      <td>0.972989</td>\n",
              "      <td>-0.116276</td>\n",
              "      <td>-0.361982</td>\n",
              "      <td>-0.355363</td>\n",
              "      <td>-0.347004</td>\n",
              "      <td>-0.292449</td>\n",
              "      <td>-0.028663</td>\n",
              "      <td>-0.368301</td>\n",
              "      <td>0.253074</td>\n",
              "      <td>0.483727</td>\n",
              "      <td>-0.985479</td>\n",
              "      <td>-0.386412</td>\n",
              "    </tr>\n",
              "    <tr>\n",
              "      <th>47509</th>\n",
              "      <td>-0.096857</td>\n",
              "      <td>-0.393355</td>\n",
              "      <td>-0.509715</td>\n",
              "      <td>0.972989</td>\n",
              "      <td>-0.108970</td>\n",
              "      <td>-0.363971</td>\n",
              "      <td>-0.355363</td>\n",
              "      <td>-0.347004</td>\n",
              "      <td>-0.292449</td>\n",
              "      <td>-0.028663</td>\n",
              "      <td>-0.368301</td>\n",
              "      <td>-1.440327</td>\n",
              "      <td>-0.108492</td>\n",
              "      <td>-0.472989</td>\n",
              "      <td>-1.413558</td>\n",
              "    </tr>\n",
              "    <tr>\n",
              "      <th>47510</th>\n",
              "      <td>-0.096857</td>\n",
              "      <td>0.910443</td>\n",
              "      <td>-0.509715</td>\n",
              "      <td>0.972989</td>\n",
              "      <td>-0.152888</td>\n",
              "      <td>-0.367034</td>\n",
              "      <td>-0.355363</td>\n",
              "      <td>-0.347004</td>\n",
              "      <td>-0.292449</td>\n",
              "      <td>-0.028663</td>\n",
              "      <td>-0.368301</td>\n",
              "      <td>0.478861</td>\n",
              "      <td>-0.108492</td>\n",
              "      <td>1.064480</td>\n",
              "      <td>0.640734</td>\n",
              "    </tr>\n",
              "    <tr>\n",
              "      <th>47511</th>\n",
              "      <td>-0.096857</td>\n",
              "      <td>1.214241</td>\n",
              "      <td>4.673681</td>\n",
              "      <td>0.972989</td>\n",
              "      <td>-0.150060</td>\n",
              "      <td>-0.366676</td>\n",
              "      <td>-0.355363</td>\n",
              "      <td>-0.347004</td>\n",
              "      <td>-0.292449</td>\n",
              "      <td>-0.028663</td>\n",
              "      <td>-0.368301</td>\n",
              "      <td>1.494901</td>\n",
              "      <td>1.075946</td>\n",
              "      <td>0.039500</td>\n",
              "      <td>-0.386412</td>\n",
              "    </tr>\n",
              "  </tbody>\n",
              "</table>\n",
              "<p>47512 rows × 15 columns</p>\n",
              "</div>"
            ],
            "text/plain": [
              "             0         1         2   ...        12        13        14\n",
              "0     -0.096857 -1.735129 -0.509715  ... -1.589040  0.039500  0.640734\n",
              "1      1.762599 -0.887027 -0.509715  ... -1.292931 -0.472989 -0.386412\n",
              "2     -0.096857 -0.962976 -0.509715  ...  0.779837 -0.985479 -1.413558\n",
              "3     -0.096857  1.644621  0.971255  ... -1.292931  1.576969 -1.413558\n",
              "4     -2.023755 -0.937660 -0.509715  ...  0.187618  1.064480  0.640734\n",
              "...         ...       ...       ...  ...       ...       ...       ...\n",
              "47507 -0.096857  0.214240  0.971255  ...  1.372056  1.064480 -0.386412\n",
              "47508 -0.096857 -0.595887 -0.509715  ...  0.483727 -0.985479 -0.386412\n",
              "47509 -0.096857 -0.393355 -0.509715  ... -0.108492 -0.472989 -1.413558\n",
              "47510 -0.096857  0.910443 -0.509715  ... -0.108492  1.064480  0.640734\n",
              "47511 -0.096857  1.214241  4.673681  ...  1.075946  0.039500 -0.386412\n",
              "\n",
              "[47512 rows x 15 columns]"
            ]
          },
          "metadata": {
            "tags": []
          },
          "execution_count": 222
        }
      ]
    },
    {
      "cell_type": "code",
      "metadata": {
        "id": "OJn0QazrRcwZ"
      },
      "source": [
        "X = tweets.drop(10,axis=1)"
      ],
      "execution_count": 223,
      "outputs": []
    },
    {
      "cell_type": "code",
      "metadata": {
        "id": "1QIGD7XHKyoB"
      },
      "source": [
        "y = tweets[10]"
      ],
      "execution_count": 224,
      "outputs": []
    },
    {
      "cell_type": "code",
      "metadata": {
        "colab": {
          "base_uri": "https://localhost:8080/",
          "height": 417
        },
        "id": "E3yPd6Jpg60g",
        "outputId": "abaa4a41-26a3-4a19-c742-ea8baba46a1d"
      },
      "source": [
        "X"
      ],
      "execution_count": 225,
      "outputs": [
        {
          "output_type": "execute_result",
          "data": {
            "text/html": [
              "<div>\n",
              "<style scoped>\n",
              "    .dataframe tbody tr th:only-of-type {\n",
              "        vertical-align: middle;\n",
              "    }\n",
              "\n",
              "    .dataframe tbody tr th {\n",
              "        vertical-align: top;\n",
              "    }\n",
              "\n",
              "    .dataframe thead th {\n",
              "        text-align: right;\n",
              "    }\n",
              "</style>\n",
              "<table border=\"1\" class=\"dataframe\">\n",
              "  <thead>\n",
              "    <tr style=\"text-align: right;\">\n",
              "      <th></th>\n",
              "      <th>0</th>\n",
              "      <th>1</th>\n",
              "      <th>2</th>\n",
              "      <th>3</th>\n",
              "      <th>4</th>\n",
              "      <th>5</th>\n",
              "      <th>6</th>\n",
              "      <th>7</th>\n",
              "      <th>8</th>\n",
              "      <th>9</th>\n",
              "      <th>11</th>\n",
              "      <th>12</th>\n",
              "      <th>13</th>\n",
              "      <th>14</th>\n",
              "    </tr>\n",
              "  </thead>\n",
              "  <tbody>\n",
              "    <tr>\n",
              "      <th>0</th>\n",
              "      <td>-0.096857</td>\n",
              "      <td>-1.735129</td>\n",
              "      <td>-0.509715</td>\n",
              "      <td>-0.925051</td>\n",
              "      <td>-0.152841</td>\n",
              "      <td>-0.367026</td>\n",
              "      <td>-0.355363</td>\n",
              "      <td>-0.347004</td>\n",
              "      <td>-0.292449</td>\n",
              "      <td>-0.028663</td>\n",
              "      <td>1.382008</td>\n",
              "      <td>-1.589040</td>\n",
              "      <td>0.039500</td>\n",
              "      <td>0.640734</td>\n",
              "    </tr>\n",
              "    <tr>\n",
              "      <th>1</th>\n",
              "      <td>1.762599</td>\n",
              "      <td>-0.887027</td>\n",
              "      <td>-0.509715</td>\n",
              "      <td>0.972989</td>\n",
              "      <td>0.050926</td>\n",
              "      <td>-0.249380</td>\n",
              "      <td>-0.158216</td>\n",
              "      <td>-0.345730</td>\n",
              "      <td>-0.292115</td>\n",
              "      <td>-0.028663</td>\n",
              "      <td>0.930434</td>\n",
              "      <td>-1.292931</td>\n",
              "      <td>-0.472989</td>\n",
              "      <td>-0.386412</td>\n",
              "    </tr>\n",
              "    <tr>\n",
              "      <th>2</th>\n",
              "      <td>-0.096857</td>\n",
              "      <td>-0.962976</td>\n",
              "      <td>-0.509715</td>\n",
              "      <td>-0.925051</td>\n",
              "      <td>-0.128232</td>\n",
              "      <td>-0.366909</td>\n",
              "      <td>-0.355363</td>\n",
              "      <td>-0.347004</td>\n",
              "      <td>-0.292449</td>\n",
              "      <td>-0.028663</td>\n",
              "      <td>-0.085606</td>\n",
              "      <td>0.779837</td>\n",
              "      <td>-0.985479</td>\n",
              "      <td>-1.413558</td>\n",
              "    </tr>\n",
              "    <tr>\n",
              "      <th>3</th>\n",
              "      <td>-0.096857</td>\n",
              "      <td>1.644621</td>\n",
              "      <td>0.971255</td>\n",
              "      <td>-0.925051</td>\n",
              "      <td>-0.148740</td>\n",
              "      <td>-0.364797</td>\n",
              "      <td>-0.354424</td>\n",
              "      <td>-0.288394</td>\n",
              "      <td>-0.219196</td>\n",
              "      <td>-0.020353</td>\n",
              "      <td>-0.198500</td>\n",
              "      <td>-1.292931</td>\n",
              "      <td>1.576969</td>\n",
              "      <td>-1.413558</td>\n",
              "    </tr>\n",
              "    <tr>\n",
              "      <th>4</th>\n",
              "      <td>-2.023755</td>\n",
              "      <td>-0.937660</td>\n",
              "      <td>-0.509715</td>\n",
              "      <td>0.972989</td>\n",
              "      <td>-0.018393</td>\n",
              "      <td>-0.366841</td>\n",
              "      <td>-0.355363</td>\n",
              "      <td>-0.347004</td>\n",
              "      <td>-0.292449</td>\n",
              "      <td>-0.028663</td>\n",
              "      <td>-1.327433</td>\n",
              "      <td>0.187618</td>\n",
              "      <td>1.064480</td>\n",
              "      <td>0.640734</td>\n",
              "    </tr>\n",
              "    <tr>\n",
              "      <th>...</th>\n",
              "      <td>...</td>\n",
              "      <td>...</td>\n",
              "      <td>...</td>\n",
              "      <td>...</td>\n",
              "      <td>...</td>\n",
              "      <td>...</td>\n",
              "      <td>...</td>\n",
              "      <td>...</td>\n",
              "      <td>...</td>\n",
              "      <td>...</td>\n",
              "      <td>...</td>\n",
              "      <td>...</td>\n",
              "      <td>...</td>\n",
              "      <td>...</td>\n",
              "    </tr>\n",
              "    <tr>\n",
              "      <th>47507</th>\n",
              "      <td>-0.096857</td>\n",
              "      <td>0.214240</td>\n",
              "      <td>0.971255</td>\n",
              "      <td>-0.925051</td>\n",
              "      <td>-0.147681</td>\n",
              "      <td>-0.359445</td>\n",
              "      <td>-0.315493</td>\n",
              "      <td>-0.155246</td>\n",
              "      <td>-0.130556</td>\n",
              "      <td>-0.028663</td>\n",
              "      <td>-0.988753</td>\n",
              "      <td>1.372056</td>\n",
              "      <td>1.064480</td>\n",
              "      <td>-0.386412</td>\n",
              "    </tr>\n",
              "    <tr>\n",
              "      <th>47508</th>\n",
              "      <td>-0.096857</td>\n",
              "      <td>-0.595887</td>\n",
              "      <td>-0.509715</td>\n",
              "      <td>0.972989</td>\n",
              "      <td>-0.116276</td>\n",
              "      <td>-0.361982</td>\n",
              "      <td>-0.355363</td>\n",
              "      <td>-0.347004</td>\n",
              "      <td>-0.292449</td>\n",
              "      <td>-0.028663</td>\n",
              "      <td>0.253074</td>\n",
              "      <td>0.483727</td>\n",
              "      <td>-0.985479</td>\n",
              "      <td>-0.386412</td>\n",
              "    </tr>\n",
              "    <tr>\n",
              "      <th>47509</th>\n",
              "      <td>-0.096857</td>\n",
              "      <td>-0.393355</td>\n",
              "      <td>-0.509715</td>\n",
              "      <td>0.972989</td>\n",
              "      <td>-0.108970</td>\n",
              "      <td>-0.363971</td>\n",
              "      <td>-0.355363</td>\n",
              "      <td>-0.347004</td>\n",
              "      <td>-0.292449</td>\n",
              "      <td>-0.028663</td>\n",
              "      <td>-1.440327</td>\n",
              "      <td>-0.108492</td>\n",
              "      <td>-0.472989</td>\n",
              "      <td>-1.413558</td>\n",
              "    </tr>\n",
              "    <tr>\n",
              "      <th>47510</th>\n",
              "      <td>-0.096857</td>\n",
              "      <td>0.910443</td>\n",
              "      <td>-0.509715</td>\n",
              "      <td>0.972989</td>\n",
              "      <td>-0.152888</td>\n",
              "      <td>-0.367034</td>\n",
              "      <td>-0.355363</td>\n",
              "      <td>-0.347004</td>\n",
              "      <td>-0.292449</td>\n",
              "      <td>-0.028663</td>\n",
              "      <td>0.478861</td>\n",
              "      <td>-0.108492</td>\n",
              "      <td>1.064480</td>\n",
              "      <td>0.640734</td>\n",
              "    </tr>\n",
              "    <tr>\n",
              "      <th>47511</th>\n",
              "      <td>-0.096857</td>\n",
              "      <td>1.214241</td>\n",
              "      <td>4.673681</td>\n",
              "      <td>0.972989</td>\n",
              "      <td>-0.150060</td>\n",
              "      <td>-0.366676</td>\n",
              "      <td>-0.355363</td>\n",
              "      <td>-0.347004</td>\n",
              "      <td>-0.292449</td>\n",
              "      <td>-0.028663</td>\n",
              "      <td>1.494901</td>\n",
              "      <td>1.075946</td>\n",
              "      <td>0.039500</td>\n",
              "      <td>-0.386412</td>\n",
              "    </tr>\n",
              "  </tbody>\n",
              "</table>\n",
              "<p>47512 rows × 14 columns</p>\n",
              "</div>"
            ],
            "text/plain": [
              "             0         1         2   ...        12        13        14\n",
              "0     -0.096857 -1.735129 -0.509715  ... -1.589040  0.039500  0.640734\n",
              "1      1.762599 -0.887027 -0.509715  ... -1.292931 -0.472989 -0.386412\n",
              "2     -0.096857 -0.962976 -0.509715  ...  0.779837 -0.985479 -1.413558\n",
              "3     -0.096857  1.644621  0.971255  ... -1.292931  1.576969 -1.413558\n",
              "4     -2.023755 -0.937660 -0.509715  ...  0.187618  1.064480  0.640734\n",
              "...         ...       ...       ...  ...       ...       ...       ...\n",
              "47507 -0.096857  0.214240  0.971255  ...  1.372056  1.064480 -0.386412\n",
              "47508 -0.096857 -0.595887 -0.509715  ...  0.483727 -0.985479 -0.386412\n",
              "47509 -0.096857 -0.393355 -0.509715  ... -0.108492 -0.472989 -1.413558\n",
              "47510 -0.096857  0.910443 -0.509715  ... -0.108492  1.064480  0.640734\n",
              "47511 -0.096857  1.214241  4.673681  ...  1.075946  0.039500 -0.386412\n",
              "\n",
              "[47512 rows x 14 columns]"
            ]
          },
          "metadata": {
            "tags": []
          },
          "execution_count": 225
        }
      ]
    },
    {
      "cell_type": "code",
      "metadata": {
        "id": "MpsnSqUZg7kS",
        "colab": {
          "base_uri": "https://localhost:8080/"
        },
        "outputId": "ca5a6b53-4969-4d6a-e861-1207ba640772"
      },
      "source": [
        "y"
      ],
      "execution_count": 226,
      "outputs": [
        {
          "output_type": "execute_result",
          "data": {
            "text/plain": [
              "0       -0.368301\n",
              "1       -0.367179\n",
              "2       -0.368301\n",
              "3       -0.298649\n",
              "4       -0.368301\n",
              "           ...   \n",
              "47507   -0.165465\n",
              "47508   -0.368301\n",
              "47509   -0.368301\n",
              "47510   -0.368301\n",
              "47511   -0.368301\n",
              "Name: 10, Length: 47512, dtype: float64"
            ]
          },
          "metadata": {
            "tags": []
          },
          "execution_count": 226
        }
      ]
    },
    {
      "cell_type": "code",
      "metadata": {
        "id": "4jsTopEwiHbq"
      },
      "source": [
        "from sklearn.model_selection import train_test_split\n",
        "from sklearn.metrics import r2_score\n",
        "X_train, X_test, y_train, y_test = train_test_split(X, y, test_size = 0.2,random_state = 3)"
      ],
      "execution_count": 227,
      "outputs": []
    },
    {
      "cell_type": "code",
      "metadata": {
        "colab": {
          "base_uri": "https://localhost:8080/"
        },
        "id": "AxAs2Ks5jDQb",
        "outputId": "58eba162-146a-4e51-cf7a-442d52da3a04"
      },
      "source": [
        "# Fitting Decision Tree Regression to the dataset\n",
        "from sklearn.tree import DecisionTreeRegressor\n",
        "dt_regressor = DecisionTreeRegressor()\n",
        "dt_regressor.fit(X_train, y_train)"
      ],
      "execution_count": 229,
      "outputs": [
        {
          "output_type": "execute_result",
          "data": {
            "text/plain": [
              "DecisionTreeRegressor(ccp_alpha=0.0, criterion='mse', max_depth=None,\n",
              "                      max_features=None, max_leaf_nodes=None,\n",
              "                      min_impurity_decrease=0.0, min_impurity_split=None,\n",
              "                      min_samples_leaf=1, min_samples_split=2,\n",
              "                      min_weight_fraction_leaf=0.0, presort='deprecated',\n",
              "                      random_state=None, splitter='best')"
            ]
          },
          "metadata": {
            "tags": []
          },
          "execution_count": 229
        }
      ]
    },
    {
      "cell_type": "code",
      "metadata": {
        "id": "h4pfR78blIAF"
      },
      "source": [
        "y_pred_test = dt_regressor.predict(X_test)\n",
        "y_pred_train = dt_regressor.predict(X_train)"
      ],
      "execution_count": 234,
      "outputs": []
    },
    {
      "cell_type": "code",
      "metadata": {
        "id": "W0VMNSHUCjSt"
      },
      "source": [
        "from sklearn import metrics "
      ],
      "execution_count": 231,
      "outputs": []
    },
    {
      "cell_type": "code",
      "metadata": {
        "colab": {
          "base_uri": "https://localhost:8080/"
        },
        "id": "AsDH12vQ4jeP",
        "outputId": "d46220db-90b1-43eb-8aaa-3e754fe77b58"
      },
      "source": [
        "print('Mean Absolute Error test:', metrics.mean_absolute_error(y_test, y_pred_test))\n",
        "print('Mean Absolute Error train:', metrics.mean_absolute_error(y_train, y_pred_train))\n",
        "print('Mean Squared Error test:', metrics.mean_squared_error(y_test, y_pred_test))\n",
        "print('Mean Squared Error train:', metrics.mean_squared_error(y_train, y_pred_train))\n",
        "print('Root Mean Squared Error test:', np.sqrt(metrics.mean_squared_error(y_test, y_pred_test)))\n",
        "print('Root Mean Squared Error train:', np.sqrt(metrics.mean_squared_error(y_train, y_pred_train)))\n",
        "print('R Squared test Score is:', r2_score(y_test, y_pred_test))\n",
        "print('R Squared train Score is:', r2_score(y_train, y_pred_train))"
      ],
      "execution_count": 237,
      "outputs": [
        {
          "output_type": "stream",
          "text": [
            "Mean Absolute Error test: 0.00976186223651804\n",
            "Mean Absolute Error train: 0.00013069022672064674\n",
            "Mean Squared Error test: 0.008705400713937989\n",
            "Mean Squared Error train: 4.3815938526946105e-08\n",
            "Root Mean Squared Error test: 0.09330273690486249\n",
            "Root Mean Squared Error train: 0.0002093225705148542\n",
            "R Squared test Score is: 0.9898447163022378\n",
            "R Squared train Score is: 0.999999957690282\n"
          ],
          "name": "stdout"
        }
      ]
    },
    {
      "cell_type": "code",
      "metadata": {
        "colab": {
          "base_uri": "https://localhost:8080/"
        },
        "id": "FjWcsBCO8GXZ",
        "outputId": "ecc3d1f3-b233-416b-ef97-244e55bbff82"
      },
      "source": [
        "from sklearn.ensemble import RandomForestRegressor\n",
        "  \n",
        " # create regressor object\n",
        "regressor = RandomForestRegressor(n_estimators = 100, random_state = 0)\n",
        "  \n",
        "# fit the regressor with x and y data\n",
        "regressor.fit(X_train, y_train) "
      ],
      "execution_count": 239,
      "outputs": [
        {
          "output_type": "execute_result",
          "data": {
            "text/plain": [
              "RandomForestRegressor(bootstrap=True, ccp_alpha=0.0, criterion='mse',\n",
              "                      max_depth=None, max_features='auto', max_leaf_nodes=None,\n",
              "                      max_samples=None, min_impurity_decrease=0.0,\n",
              "                      min_impurity_split=None, min_samples_leaf=1,\n",
              "                      min_samples_split=2, min_weight_fraction_leaf=0.0,\n",
              "                      n_estimators=100, n_jobs=None, oob_score=False,\n",
              "                      random_state=0, verbose=0, warm_start=False)"
            ]
          },
          "metadata": {
            "tags": []
          },
          "execution_count": 239
        }
      ]
    },
    {
      "cell_type": "code",
      "metadata": {
        "id": "H1q_19rfCHRj"
      },
      "source": [
        "y_pred_test = regressor.predict(X_test)\n",
        "y_pred_train = regressor.predict(X_train)"
      ],
      "execution_count": 241,
      "outputs": []
    },
    {
      "cell_type": "code",
      "metadata": {
        "colab": {
          "base_uri": "https://localhost:8080/"
        },
        "id": "_aifN4rfiEeD",
        "outputId": "109d5770-5f9c-4d19-9029-c409e468aadf"
      },
      "source": [
        "print('Mean Absolute Error test:', metrics.mean_absolute_error(y_test, y_pred_test))\n",
        "print('Mean Absolute Error train:', metrics.mean_absolute_error(y_train, y_pred_train))\n",
        "print('Mean Squared Error test:', metrics.mean_squared_error(y_test, y_pred_test))\n",
        "print('Mean Squared Error train:', metrics.mean_squared_error(y_train, y_pred_train))\n",
        "print('Root Mean Squared Error test:', np.sqrt(metrics.mean_squared_error(y_test, y_pred_test)))\n",
        "print('Root Mean Squared Error train:', np.sqrt(metrics.mean_squared_error(y_train, y_pred_train)))\n",
        "print('R Squared test Score is:', r2_score(y_test, y_pred_test))\n",
        "print('R Squared train Score is:', r2_score(y_train, y_pred_train))"
      ],
      "execution_count": 242,
      "outputs": [
        {
          "output_type": "stream",
          "text": [
            "Mean Absolute Error test: 0.005389360071896582\n",
            "Mean Absolute Error train: 0.0017567557468834128\n",
            "Mean Squared Error test: 0.008030745459825185\n",
            "Mean Squared Error train: 0.0001635352556620187\n",
            "Root Mean Squared Error test: 0.08961442662777677\n",
            "Root Mean Squared Error train: 0.012788090383713226\n",
            "R Squared test Score is: 0.9906317352722814\n",
            "R Squared train Score is: 0.999842086446556\n"
          ],
          "name": "stdout"
        }
      ]
    },
    {
      "cell_type": "code",
      "metadata": {
        "id": "2jZMCmNnDOgm"
      },
      "source": [
        "from xgboost import XGBRegressor\n",
        "from xgboost import XGBRFRegressor\n",
        "from sklearn.model_selection import GridSearchCV\n",
        "\n",
        "from sklearn.metrics import mean_squared_error\n",
        "from sklearn.metrics import mean_absolute_error\n",
        "\n",
        "# from sklearn.preprocessing import Imputer"
      ],
      "execution_count": 191,
      "outputs": []
    },
    {
      "cell_type": "code",
      "metadata": {
        "id": "2BoJldsdFYD3"
      },
      "source": [
        "#XGBoost hyper-parameter tuning\n",
        "def hyperParameterTuning(X_train, y_train):\n",
        "    param_tuning = {\n",
        "        'learning_rate': [0.01, 0.1,0.2],\n",
        "        'max_depth': [3, 5, 7, 10],\n",
        "        'min_child_weight': [1, 3, 5],\n",
        "        'n_estimators' : [300,500,600,700],\n",
        "        'objective': ['reg:squarederror']\n",
        "    }\n",
        "\n",
        "    xgb_model = XGBRegressor()\n",
        "\n",
        "    gsearch = GridSearchCV(estimator = xgb_model,\n",
        "                           param_grid = param_tuning,                        \n",
        "                           #scoring = 'neg_mean_absolute_error', #MAE\n",
        "                           #scoring = 'neg_mean_squared_error',  #MSE\n",
        "                           cv = 5,\n",
        "                           n_jobs = -1,\n",
        "                           verbose = 1)\n",
        "\n",
        "    gsearch.fit(X_train,y_train)\n",
        "\n",
        "    return gsearch.best_params_"
      ],
      "execution_count": 86,
      "outputs": []
    },
    {
      "cell_type": "code",
      "metadata": {
        "colab": {
          "background_save": true,
          "base_uri": "https://localhost:8080/"
        },
        "id": "ztoZY9BYFZjY",
        "outputId": "60671be2-35b1-408f-b776-1ffb327884c3"
      },
      "source": [
        "hyperParameterTuning(X_train, y_train)"
      ],
      "execution_count": null,
      "outputs": [
        {
          "output_type": "stream",
          "text": [
            "Fitting 5 folds for each of 72 candidates, totalling 360 fits\n"
          ],
          "name": "stdout"
        },
        {
          "output_type": "stream",
          "text": [
            "[Parallel(n_jobs=-1)]: Using backend LokyBackend with 2 concurrent workers.\n",
            "[Parallel(n_jobs=-1)]: Done  46 tasks      | elapsed:  4.4min\n",
            "[Parallel(n_jobs=-1)]: Done 196 tasks      | elapsed: 35.8min\n",
            "[Parallel(n_jobs=-1)]: Done 360 out of 360 | elapsed: 67.3min finished\n"
          ],
          "name": "stderr"
        },
        {
          "output_type": "execute_result",
          "data": {
            "text/plain": [
              "{'learning_rate': 0.1,\n",
              " 'max_depth': 3,\n",
              " 'min_child_weight': 1,\n",
              " 'n_estimators': 500,\n",
              " 'objective': 'reg:squarederror'}"
            ]
          },
          "metadata": {
            "tags": []
          },
          "execution_count": 0
        }
      ]
    },
    {
      "cell_type": "code",
      "metadata": {
        "colab": {
          "base_uri": "https://localhost:8080/"
        },
        "id": "o-kiuxUoFhxe",
        "outputId": "4d3c8ad6-4875-4af0-fa44-81bcbee7f4b6"
      },
      "source": [
        "xgb_model = XGBRegressor(\n",
        "        objective = 'reg:squarederror',\n",
        "        colsample_bytree = 0.5,\n",
        "        learning_rate = 0.1,\n",
        "        max_depth = 5,\n",
        "        min_child_weight = 1,\n",
        "        n_estimators = 500,\n",
        "        subsample = 0.7)\n",
        "\n",
        "%time xgb_model.fit(X_train, y_train, early_stopping_rounds=5, eval_set=[(X_test, y_test)], verbose=False)\n",
        "\n",
        "y_pred_test = xgb_model.predict(X_test)\n",
        "y_pred_train = xgb_model.predict(X_train)"
      ],
      "execution_count": 244,
      "outputs": [
        {
          "output_type": "stream",
          "text": [
            "CPU times: user 7.74 s, sys: 18.8 ms, total: 7.75 s\n",
            "Wall time: 7.73 s\n"
          ],
          "name": "stdout"
        }
      ]
    },
    {
      "cell_type": "code",
      "metadata": {
        "colab": {
          "base_uri": "https://localhost:8080/"
        },
        "id": "b3Q3F9tKEuWL",
        "outputId": "6f9282e1-33b7-4738-b6ed-e56ac35d6a45"
      },
      "source": [
        "print('Mean Absolute Error test:', metrics.mean_absolute_error(y_test, y_pred_test))\n",
        "print('Mean Absolute Error train:', metrics.mean_absolute_error(y_train, y_pred_train))\n",
        "print('Mean Squared Error test:', metrics.mean_squared_error(y_test, y_pred_test))\n",
        "print('Mean Squared Error train:', metrics.mean_squared_error(y_train, y_pred_train))\n",
        "print('Root Mean Squared Error test:', np.sqrt(metrics.mean_squared_error(y_test, y_pred_test)))\n",
        "print('Root Mean Squared Error train:', np.sqrt(metrics.mean_squared_error(y_train, y_pred_train)))\n",
        "print('R Squared test Score is:', r2_score(y_test, y_pred_test))\n",
        "print('R Squared train Score is:', r2_score(y_train, y_pred_train))"
      ],
      "execution_count": 245,
      "outputs": [
        {
          "output_type": "stream",
          "text": [
            "Mean Absolute Error test: 0.013078410048125969\n",
            "Mean Absolute Error train: 0.009220106875640774\n",
            "Mean Squared Error test: 0.005544976423725062\n",
            "Mean Squared Error train: 0.00031839911395535717\n",
            "Root Mean Squared Error test: 0.07446459845943616\n",
            "Root Mean Squared Error train: 0.017843741590691038\n",
            "R Squared test Score is: 0.9935315087115779\n",
            "R Squared train Score is: 0.9996925462017682\n"
          ],
          "name": "stdout"
        }
      ]
    },
    {
      "cell_type": "code",
      "metadata": {
        "id": "FdJbipi5tc75"
      },
      "source": [
        "from sklearn.metrics import mean_squared_error\n",
        "from math import sqrt\n",
        "from sklearn.linear_model import Lasso"
      ],
      "execution_count": 246,
      "outputs": []
    },
    {
      "cell_type": "code",
      "metadata": {
        "id": "xwGnaS7vEjgN"
      },
      "source": [
        "from sklearn.linear_model import LinearRegression\n",
        "from sklearn.model_selection import RepeatedKFold\n",
        "import pandas as pd\n",
        "from sklearn.linear_model import LassoCV\n",
        "from numpy import arange"
      ],
      "execution_count": 247,
      "outputs": []
    },
    {
      "cell_type": "code",
      "metadata": {
        "colab": {
          "base_uri": "https://localhost:8080/"
        },
        "id": "YSLz7EDxuXB2",
        "outputId": "0674e67e-c544-4681-86cf-0d465367c0d9"
      },
      "source": [
        "## define model evaluation method\n",
        "cross_validation = RepeatedKFold(n_splits=10, n_repeats=3, random_state=1)\n",
        "\n",
        "## define model\n",
        "\n",
        "lasso_model = LassoCV(alphas=arange(0, 1, 0.02), cv=cross_validation , n_jobs=-1)\n",
        "\n",
        "## fit model\n",
        "lasso_model .fit(X, y)\n",
        "## summarize chosen configuration\n",
        "print('alpha: %f' % lasso_model .alpha_)\n",
        "\n",
        "pred_train_lasso= lasso_model .predict(X_train)\n",
        "pred_test_lasso= lasso_model .predict(X_test)"
      ],
      "execution_count": 248,
      "outputs": [
        {
          "output_type": "stream",
          "text": [
            "/usr/local/lib/python3.7/dist-packages/sklearn/linear_model/_coordinate_descent.py:472: UserWarning: Coordinate descent with alpha=0 may lead to unexpected results and is discouraged.\n",
            "  tol, rng, random, positive)\n",
            "/usr/local/lib/python3.7/dist-packages/sklearn/linear_model/_coordinate_descent.py:472: UserWarning: Coordinate descent with alpha=0 may lead to unexpected results and is discouraged.\n",
            "  tol, rng, random, positive)\n",
            "/usr/local/lib/python3.7/dist-packages/sklearn/linear_model/_coordinate_descent.py:472: UserWarning: Coordinate descent with alpha=0 may lead to unexpected results and is discouraged.\n",
            "  tol, rng, random, positive)\n",
            "/usr/local/lib/python3.7/dist-packages/sklearn/linear_model/_coordinate_descent.py:472: UserWarning: Coordinate descent with alpha=0 may lead to unexpected results and is discouraged.\n",
            "  tol, rng, random, positive)\n",
            "/usr/local/lib/python3.7/dist-packages/sklearn/linear_model/_coordinate_descent.py:472: UserWarning: Coordinate descent with alpha=0 may lead to unexpected results and is discouraged.\n",
            "  tol, rng, random, positive)\n",
            "/usr/local/lib/python3.7/dist-packages/sklearn/linear_model/_coordinate_descent.py:472: UserWarning: Coordinate descent with alpha=0 may lead to unexpected results and is discouraged.\n",
            "  tol, rng, random, positive)\n",
            "/usr/local/lib/python3.7/dist-packages/sklearn/linear_model/_coordinate_descent.py:472: UserWarning: Coordinate descent with alpha=0 may lead to unexpected results and is discouraged.\n",
            "  tol, rng, random, positive)\n",
            "/usr/local/lib/python3.7/dist-packages/sklearn/linear_model/_coordinate_descent.py:472: UserWarning: Coordinate descent with alpha=0 may lead to unexpected results and is discouraged.\n",
            "  tol, rng, random, positive)\n",
            "/usr/local/lib/python3.7/dist-packages/sklearn/linear_model/_coordinate_descent.py:472: UserWarning: Coordinate descent with alpha=0 may lead to unexpected results and is discouraged.\n",
            "  tol, rng, random, positive)\n",
            "/usr/local/lib/python3.7/dist-packages/sklearn/linear_model/_coordinate_descent.py:472: UserWarning: Coordinate descent with alpha=0 may lead to unexpected results and is discouraged.\n",
            "  tol, rng, random, positive)\n",
            "/usr/local/lib/python3.7/dist-packages/sklearn/linear_model/_coordinate_descent.py:472: UserWarning: Coordinate descent with alpha=0 may lead to unexpected results and is discouraged.\n",
            "  tol, rng, random, positive)\n",
            "/usr/local/lib/python3.7/dist-packages/sklearn/linear_model/_coordinate_descent.py:472: UserWarning: Coordinate descent with alpha=0 may lead to unexpected results and is discouraged.\n",
            "  tol, rng, random, positive)\n",
            "/usr/local/lib/python3.7/dist-packages/sklearn/linear_model/_coordinate_descent.py:472: UserWarning: Coordinate descent with alpha=0 may lead to unexpected results and is discouraged.\n",
            "  tol, rng, random, positive)\n",
            "/usr/local/lib/python3.7/dist-packages/sklearn/linear_model/_coordinate_descent.py:472: UserWarning: Coordinate descent with alpha=0 may lead to unexpected results and is discouraged.\n",
            "  tol, rng, random, positive)\n",
            "/usr/local/lib/python3.7/dist-packages/sklearn/linear_model/_coordinate_descent.py:472: UserWarning: Coordinate descent with alpha=0 may lead to unexpected results and is discouraged.\n",
            "  tol, rng, random, positive)\n",
            "/usr/local/lib/python3.7/dist-packages/sklearn/linear_model/_coordinate_descent.py:472: UserWarning: Coordinate descent with alpha=0 may lead to unexpected results and is discouraged.\n",
            "  tol, rng, random, positive)\n",
            "/usr/local/lib/python3.7/dist-packages/sklearn/linear_model/_coordinate_descent.py:472: UserWarning: Coordinate descent with alpha=0 may lead to unexpected results and is discouraged.\n",
            "  tol, rng, random, positive)\n",
            "/usr/local/lib/python3.7/dist-packages/sklearn/linear_model/_coordinate_descent.py:472: UserWarning: Coordinate descent with alpha=0 may lead to unexpected results and is discouraged.\n",
            "  tol, rng, random, positive)\n",
            "/usr/local/lib/python3.7/dist-packages/sklearn/linear_model/_coordinate_descent.py:472: UserWarning: Coordinate descent with alpha=0 may lead to unexpected results and is discouraged.\n",
            "  tol, rng, random, positive)\n",
            "/usr/local/lib/python3.7/dist-packages/sklearn/linear_model/_coordinate_descent.py:472: UserWarning: Coordinate descent with alpha=0 may lead to unexpected results and is discouraged.\n",
            "  tol, rng, random, positive)\n",
            "/usr/local/lib/python3.7/dist-packages/sklearn/linear_model/_coordinate_descent.py:472: UserWarning: Coordinate descent with alpha=0 may lead to unexpected results and is discouraged.\n",
            "  tol, rng, random, positive)\n",
            "/usr/local/lib/python3.7/dist-packages/sklearn/linear_model/_coordinate_descent.py:472: UserWarning: Coordinate descent with alpha=0 may lead to unexpected results and is discouraged.\n",
            "  tol, rng, random, positive)\n",
            "/usr/local/lib/python3.7/dist-packages/sklearn/linear_model/_coordinate_descent.py:472: UserWarning: Coordinate descent with alpha=0 may lead to unexpected results and is discouraged.\n",
            "  tol, rng, random, positive)\n",
            "/usr/local/lib/python3.7/dist-packages/sklearn/linear_model/_coordinate_descent.py:472: UserWarning: Coordinate descent with alpha=0 may lead to unexpected results and is discouraged.\n",
            "  tol, rng, random, positive)\n",
            "/usr/local/lib/python3.7/dist-packages/sklearn/linear_model/_coordinate_descent.py:472: UserWarning: Coordinate descent with alpha=0 may lead to unexpected results and is discouraged.\n",
            "  tol, rng, random, positive)\n",
            "/usr/local/lib/python3.7/dist-packages/sklearn/linear_model/_coordinate_descent.py:472: UserWarning: Coordinate descent with alpha=0 may lead to unexpected results and is discouraged.\n",
            "  tol, rng, random, positive)\n",
            "/usr/local/lib/python3.7/dist-packages/sklearn/linear_model/_coordinate_descent.py:472: UserWarning: Coordinate descent with alpha=0 may lead to unexpected results and is discouraged.\n",
            "  tol, rng, random, positive)\n",
            "/usr/local/lib/python3.7/dist-packages/sklearn/linear_model/_coordinate_descent.py:472: UserWarning: Coordinate descent with alpha=0 may lead to unexpected results and is discouraged.\n",
            "  tol, rng, random, positive)\n",
            "/usr/local/lib/python3.7/dist-packages/sklearn/linear_model/_coordinate_descent.py:472: UserWarning: Coordinate descent with alpha=0 may lead to unexpected results and is discouraged.\n",
            "  tol, rng, random, positive)\n",
            "/usr/local/lib/python3.7/dist-packages/sklearn/linear_model/_coordinate_descent.py:472: UserWarning: Coordinate descent with alpha=0 may lead to unexpected results and is discouraged.\n",
            "  tol, rng, random, positive)\n"
          ],
          "name": "stderr"
        },
        {
          "output_type": "stream",
          "text": [
            "alpha: 0.000000\n"
          ],
          "name": "stdout"
        },
        {
          "output_type": "stream",
          "text": [
            "/usr/local/lib/python3.7/dist-packages/sklearn/linear_model/_coordinate_descent.py:1218: UserWarning: With alpha=0, this algorithm does not converge well. You are advised to use the LinearRegression estimator\n",
            "  model.fit(X, y)\n",
            "/usr/local/lib/python3.7/dist-packages/sklearn/linear_model/_coordinate_descent.py:476: UserWarning: Coordinate descent with no regularization may lead to unexpected results and is discouraged.\n",
            "  positive)\n"
          ],
          "name": "stderr"
        }
      ]
    },
    {
      "cell_type": "code",
      "metadata": {
        "colab": {
          "base_uri": "https://localhost:8080/"
        },
        "id": "ex_Gavt7v8MV",
        "outputId": "db47d49b-3cc6-4ac1-b96a-037e2e181869"
      },
      "source": [
        "print('Mean Absolute Error test:', metrics.mean_absolute_error(y_test, pred_test_lasso))\n",
        "print('Mean Absolute Error train:', metrics.mean_absolute_error(y_train, pred_train_lasso))\n",
        "print('Mean Squared Error test:', metrics.mean_squared_error(y_test, pred_test_lasso))\n",
        "print('Mean Squared Error train:', metrics.mean_squared_error(y_train, pred_train_lasso))\n",
        "print('Root Mean Squared Error test:', np.sqrt(metrics.mean_squared_error(y_test,pred_test_lasso)))\n",
        "print('Root Mean Squared Error train:', np.sqrt(metrics.mean_squared_error(y_train, pred_train_lasso)))\n",
        "print('R Squared test Score is:', r2_score(y_test, pred_test_lasso))\n",
        "print('R Squared train Score is:', r2_score(y_train, pred_train_lasso))"
      ],
      "execution_count": 249,
      "outputs": [
        {
          "output_type": "stream",
          "text": [
            "Mean Absolute Error test: 2.297458534860365e-05\n",
            "Mean Absolute Error train: 2.1643792501682977e-05\n",
            "Mean Squared Error test: 2.076613823611422e-08\n",
            "Mean Squared Error train: 2.8629352312553153e-09\n",
            "Root Mean Squared Error test: 0.00014410460865674706\n",
            "Root Mean Squared Error train: 5.3506403647183345e-05\n",
            "R Squared test Score is: 0.999999975775265\n",
            "R Squared train Score is: 0.9999999972354813\n"
          ],
          "name": "stdout"
        }
      ]
    },
    {
      "cell_type": "code",
      "metadata": {
        "colab": {
          "base_uri": "https://localhost:8080/"
        },
        "id": "yx5eajQOxlgB",
        "outputId": "1927b7b1-daf6-42a3-bbc6-f807a6bf160b"
      },
      "source": [
        "lr = LinearRegression()\n",
        "lr.fit(X_train, y_train)"
      ],
      "execution_count": 250,
      "outputs": [
        {
          "output_type": "execute_result",
          "data": {
            "text/plain": [
              "LinearRegression(copy_X=True, fit_intercept=True, n_jobs=None, normalize=False)"
            ]
          },
          "metadata": {
            "tags": []
          },
          "execution_count": 250
        }
      ]
    },
    {
      "cell_type": "code",
      "metadata": {
        "colab": {
          "base_uri": "https://localhost:8080/"
        },
        "id": "6aQ-mibo-q66",
        "outputId": "62c839f1-a990-4ac2-8d3f-a9d9330eef06"
      },
      "source": [
        "LinearRegression(copy_X=True, fit_intercept=True, n_jobs=1, normalize=False)"
      ],
      "execution_count": 251,
      "outputs": [
        {
          "output_type": "execute_result",
          "data": {
            "text/plain": [
              "LinearRegression(copy_X=True, fit_intercept=True, n_jobs=1, normalize=False)"
            ]
          },
          "metadata": {
            "tags": []
          },
          "execution_count": 251
        }
      ]
    },
    {
      "cell_type": "code",
      "metadata": {
        "id": "hiFGMuTz-ruL"
      },
      "source": [
        "pred_train_lr= lr.predict(X_train)\n",
        "pred_test_lr= lr.predict(X_test)"
      ],
      "execution_count": 252,
      "outputs": []
    },
    {
      "cell_type": "code",
      "metadata": {
        "colab": {
          "base_uri": "https://localhost:8080/"
        },
        "id": "xvlBrHHMmjvZ",
        "outputId": "5ed27946-e861-49dc-e80f-73c66a9b9a0a"
      },
      "source": [
        "print('Mean Absolute Error test:', metrics.mean_absolute_error(y_test, pred_test_lr))\n",
        "print('Mean Absolute Error train:', metrics.mean_absolute_error(y_train,pred_train_lr))\n",
        "print('Mean Squared Error test:', metrics.mean_squared_error(y_test, pred_test_lr))\n",
        "print('Mean Squared Error train:', metrics.mean_squared_error(y_train, pred_train_lr))\n",
        "print('Root Mean Squared Error test:', np.sqrt(metrics.mean_squared_error(y_test,pred_test_lr)))\n",
        "print('Root Mean Squared Error train:', np.sqrt(metrics.mean_squared_error(y_train, pred_train_lr)))\n",
        "print('R Squared test Score is:', r2_score(y_test, pred_test_lr))\n",
        "print('R Squared train Score is:', r2_score(y_train, pred_train_lr))"
      ],
      "execution_count": 253,
      "outputs": [
        {
          "output_type": "stream",
          "text": [
            "Mean Absolute Error test: 4.5924741097256934e-06\n",
            "Mean Absolute Error train: 2.9977651024766116e-06\n",
            "Mean Squared Error test: 1.9701195214881017e-08\n",
            "Mean Squared Error train: 1.7934962145688324e-09\n",
            "Root Mean Squared Error test: 0.00014036094618832197\n",
            "Root Mean Squared Error train: 4.23496896631939e-05\n",
            "R Squared test Score is: 0.9999999770175741\n",
            "R Squared train Score is: 0.9999999982681572\n"
          ],
          "name": "stdout"
        }
      ]
    },
    {
      "cell_type": "code",
      "metadata": {
        "id": "8NDqks6F-1PE"
      },
      "source": [
        "from sklearn.linear_model import Ridge\n",
        "rr = Ridge(alpha=0.01)\n",
        "rr.fit(X_train, y_train) \n",
        "pred_train_rr= rr.predict(X_train)\n",
        "pred_test_rr= rr.predict(X_test)"
      ],
      "execution_count": 256,
      "outputs": []
    },
    {
      "cell_type": "code",
      "metadata": {
        "colab": {
          "base_uri": "https://localhost:8080/"
        },
        "id": "mf3O8vKEnAP4",
        "outputId": "8b1b9206-7ff5-4562-8cdc-bc79f8b020c5"
      },
      "source": [
        "print('Mean Absolute Error test:', metrics.mean_absolute_error(y_test, pred_test_rr))\n",
        "print('Mean Absolute Error train:', metrics.mean_absolute_error(y_train,pred_train_rr))\n",
        "print('Mean Squared Error test:', metrics.mean_squared_error(y_test, pred_test_rr))\n",
        "print('Mean Squared Error train:', metrics.mean_squared_error(y_train, pred_train_rr))\n",
        "print('Root Mean Squared Error test:', np.sqrt(metrics.mean_squared_error(y_test,pred_test_rr)))\n",
        "print('Root Mean Squared Error train:', np.sqrt(metrics.mean_squared_error(y_train, pred_train_rr)))\n",
        "print('R Squared test Score is:', r2_score(y_test, pred_test_rr))\n",
        "print('R Squared train Score is:', r2_score(y_train, pred_train_rr))"
      ],
      "execution_count": 257,
      "outputs": [
        {
          "output_type": "stream",
          "text": [
            "Mean Absolute Error test: 4.575682526274442e-06\n",
            "Mean Absolute Error train: 2.9786777938883565e-06\n",
            "Mean Squared Error test: 1.970149224155151e-08\n",
            "Mean Squared Error train: 1.7935460238129882e-09\n",
            "Root Mean Squared Error test: 0.0001403620042659391\n",
            "Root Mean Squared Error train: 4.235027773005731e-05\n",
            "R Squared test Score is: 0.9999999770172276\n",
            "R Squared train Score is: 0.999999998268109\n"
          ],
          "name": "stdout"
        }
      ]
    }
  ]
}